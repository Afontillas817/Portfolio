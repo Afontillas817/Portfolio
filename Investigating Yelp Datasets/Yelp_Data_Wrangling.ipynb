{
 "cells": [
  {
   "cell_type": "markdown",
   "id": "7214684d-23af-4ef5-8234-7857fa0ddac1",
   "metadata": {},
   "source": [
    "# Analysis of Yelp Data\n",
    "_Research project completed by Allysa Grace Fontillas for Udacity's Data Analyst Nanodegree Program | November 9, 2023_\n",
    "## Table of Contents\n",
    "<ul>\n",
    "<li><a href=\"#Introduction\">Introduction</a></lii>\n",
    "<li><a href=\"#Gather Data\">Gather Data</a></li>\n",
    "<li><a href=\"#Assess Data\">Assess Data</a></li>\n",
    "<li><a href=\"#Clean Data\">Clean Data</a></li>\n",
    "<li><a href=\"#Updating the Data Storage\">Updating the Data Storage</a></li>\n",
    "<li><a href=\"#Answering Research Questions\">Answering Research Questions</a></li>\n",
    "<li><a href=\"#Conclusions\">Conclusions</a></li>\n",
    "<li><a href=\"#Reflection\">Reflection</a></li>\n",
    "</ul>\n",
    "</ul>"
   ]
  },
  {
   "cell_type": "markdown",
   "id": "02e231e3-b160-4f03-bf04-ccd13a0dec92",
   "metadata": {},
   "source": [
    "## Introduction\n",
    "\n",
    "In this project, I will retrieve and extract data from two different datasets, assess it, clean it, and use it to answer my research questions.\n",
    "This project will focus on Yelp data about businesses in the United States. \n",
    "\n",
    "The first dataset contains information from Yelp's Open Dataset, a subset of Yelp's data. The Yelp Open Dataset is provided by Yelp as an all-purpose dataset for individuals to learn from. I downloaded this dataset manually and utilized the json file regarding businesses' check-in information. The variables in this dataset are `business_id` and `date`. Each value in the `date` column contains all of the dates and times that a user checked-in at a business.\n",
    "\n",
    "I used the Yelp Fusion API to gather the second dataset. I submitted an application on Yelp's Developers website where I was granted a client ID and an API key to access the Yelp Fusion API. The second dataset focuses on the different attributes of each `business_id` from the first dataset. The variables for the second dataset are `business_id`, `name`, `rating`, `review_count`, `category`, `city`, `state`, and `zip_code`.\n",
    "\n",
    "With these 2 datasets, I sought to answer the following questions:\n",
    "- What is the average rating of businesses based on their amount of reviews and how are these 2 variables related?\n",
    "- What is the average rating of businesses based on their amount check-ins and how are these 2 variables related?\n",
    "- What is the relationship between Yelp user interactions (check-ins + reviews) and the rating given to a business?\n",
    "\n",
    "I initially considered focusing on businesses with the highest ratings, but I realized that metric can be unreliable. Multiple businesses have a 5-star review on yelp and a low count of reviews (<15 reviews) and check-ins, so querying for business data based on rating wouldn't necessarily gather businesses with a lot of user interactions."
   ]
  },
  {
   "cell_type": "code",
   "execution_count": 1,
   "id": "cdbc7932-cac1-479f-8551-a0e84543587a",
   "metadata": {},
   "outputs": [],
   "source": [
    "#Imports the libraries I'll be using\n",
    "import requests\n",
    "import pandas as pd\n",
    "import numpy as np\n",
    "import matplotlib.pyplot as plt\n",
    "import openpyxl as op\n",
    "import seaborn as sns\n",
    "import json"
   ]
  },
  {
   "cell_type": "markdown",
   "id": "807185d8-026f-4b3e-81de-37751778d012",
   "metadata": {},
   "source": [
    "## Gather Data"
   ]
  },
  {
   "cell_type": "markdown",
   "id": "de317ef4-a8aa-4ae0-a808-d699a7a9f3bf",
   "metadata": {},
   "source": [
    "#### **Dataset 1**\n",
    "The first dataset contains business check-in information from Yelp's Open Dataset. I obtained this json file by downloading it manually from Yelp's online Open Dataset. I chose this dataset to acquire the check-in information of different businesses. After I've assessed and cleaned this data, I will analyze the relationship between the amount of check-ins and a business' rating. The variables in this current dataset are `business_id` and `date`. As you can see, some businesses have more dates than others. This is because Yelp's Open Dataset stores check-ins by storing the date of each check-in rather than the number of check-ins. \n",
    "\n",
    "I will load in this dataset below."
   ]
  },
  {
   "cell_type": "code",
   "execution_count": 2,
   "id": "d7b325f7-ee1b-4dc8-9cb7-ea25c920d6bd",
   "metadata": {},
   "outputs": [
    {
     "data": {
      "text/html": [
       "<div>\n",
       "<style scoped>\n",
       "    .dataframe tbody tr th:only-of-type {\n",
       "        vertical-align: middle;\n",
       "    }\n",
       "\n",
       "    .dataframe tbody tr th {\n",
       "        vertical-align: top;\n",
       "    }\n",
       "\n",
       "    .dataframe thead th {\n",
       "        text-align: right;\n",
       "    }\n",
       "</style>\n",
       "<table border=\"1\" class=\"dataframe\">\n",
       "  <thead>\n",
       "    <tr style=\"text-align: right;\">\n",
       "      <th></th>\n",
       "      <th>business_id</th>\n",
       "      <th>date</th>\n",
       "    </tr>\n",
       "  </thead>\n",
       "  <tbody>\n",
       "    <tr>\n",
       "      <th>0</th>\n",
       "      <td>---kPU91CF4Lq2-WlRu9Lw</td>\n",
       "      <td>2020-03-13 21:10:56, 2020-06-02 22:18:06, 2020...</td>\n",
       "    </tr>\n",
       "    <tr>\n",
       "      <th>1</th>\n",
       "      <td>--0iUa4sNDFiZFrAdIWhZQ</td>\n",
       "      <td>2010-09-13 21:43:09, 2011-05-04 23:08:15, 2011...</td>\n",
       "    </tr>\n",
       "    <tr>\n",
       "      <th>2</th>\n",
       "      <td>--30_8IhuyMHbSOcNWd6DQ</td>\n",
       "      <td>2013-06-14 23:29:17, 2014-08-13 23:20:22</td>\n",
       "    </tr>\n",
       "    <tr>\n",
       "      <th>3</th>\n",
       "      <td>--7PUidqRWpRSpXebiyxTg</td>\n",
       "      <td>2011-02-15 17:12:00, 2011-07-28 02:46:10, 2012...</td>\n",
       "    </tr>\n",
       "    <tr>\n",
       "      <th>4</th>\n",
       "      <td>--7jw19RH9JKXgFohspgQw</td>\n",
       "      <td>2014-04-21 20:42:11, 2014-04-28 21:04:46, 2014...</td>\n",
       "    </tr>\n",
       "  </tbody>\n",
       "</table>\n",
       "</div>"
      ],
      "text/plain": [
       "              business_id                                               date\n",
       "0  ---kPU91CF4Lq2-WlRu9Lw  2020-03-13 21:10:56, 2020-06-02 22:18:06, 2020...\n",
       "1  --0iUa4sNDFiZFrAdIWhZQ  2010-09-13 21:43:09, 2011-05-04 23:08:15, 2011...\n",
       "2  --30_8IhuyMHbSOcNWd6DQ           2013-06-14 23:29:17, 2014-08-13 23:20:22\n",
       "3  --7PUidqRWpRSpXebiyxTg  2011-02-15 17:12:00, 2011-07-28 02:46:10, 2012...\n",
       "4  --7jw19RH9JKXgFohspgQw  2014-04-21 20:42:11, 2014-04-28 21:04:46, 2014..."
      ]
     },
     "execution_count": 2,
     "metadata": {},
     "output_type": "execute_result"
    }
   ],
   "source": [
    "checkIn = pd.read_json('yelpdataset_checkin.json', lines=True)\n",
    "checkIn.head()"
   ]
  },
  {
   "cell_type": "markdown",
   "id": "75e80fb6-f91c-4a25-9ac6-c9d0971cdfef",
   "metadata": {},
   "source": [
    "The `date` column of this dataframe stores the date of every check-in for each `business_id`.\n",
    "\n",
    "Some businesses don't have a lot of check-ins or Yelp user interactions. To ensure that I work with a dataset that contains businesses with plenty of Yelp user interactions, I want to keep the top 600 businesses with the most check-ins from Yelp's Open Dataset. To do that, I will sort the dataframe based on the length of each value in the `date` column and keep the top 600 rows with the longest `date` value length."
   ]
  },
  {
   "cell_type": "code",
   "execution_count": 3,
   "id": "8e8a3f70-0d7f-46d3-8fbe-d64f182d4f55",
   "metadata": {},
   "outputs": [],
   "source": [
    "#Made a copy of CheckIn and stored it into a new dataframe called SortedCheck\n",
    "sortedCheck = checkIn.copy()\n",
    "#Creates a new column that lists the length of each value from the date column so I can easily see it\n",
    "sortedCheck['dateLength'] = checkIn.date.str.len()"
   ]
  },
  {
   "cell_type": "code",
   "execution_count": 4,
   "id": "939d7e47-f6d3-40b9-921c-14aca0c5b973",
   "metadata": {},
   "outputs": [],
   "source": [
    "#Stores the index of the sorted date length values into the variable \"s\"\n",
    "s = checkIn.date.str.len().sort_values(ascending=False).index"
   ]
  },
  {
   "cell_type": "code",
   "execution_count": 5,
   "id": "f063397b-5482-4ade-925f-c594fa166b82",
   "metadata": {},
   "outputs": [
    {
     "data": {
      "text/html": [
       "<div>\n",
       "<style scoped>\n",
       "    .dataframe tbody tr th:only-of-type {\n",
       "        vertical-align: middle;\n",
       "    }\n",
       "\n",
       "    .dataframe tbody tr th {\n",
       "        vertical-align: top;\n",
       "    }\n",
       "\n",
       "    .dataframe thead th {\n",
       "        text-align: right;\n",
       "    }\n",
       "</style>\n",
       "<table border=\"1\" class=\"dataframe\">\n",
       "  <thead>\n",
       "    <tr style=\"text-align: right;\">\n",
       "      <th></th>\n",
       "      <th>business_id</th>\n",
       "      <th>date</th>\n",
       "      <th>dateLength</th>\n",
       "    </tr>\n",
       "  </thead>\n",
       "  <tbody>\n",
       "    <tr>\n",
       "      <th>0</th>\n",
       "      <td>-QI8Qi8XWH3D8y8ethnajA</td>\n",
       "      <td>2010-01-17 16:30:46, 2010-01-18 20:17:55, 2010...</td>\n",
       "      <td>1095022</td>\n",
       "    </tr>\n",
       "    <tr>\n",
       "      <th>1</th>\n",
       "      <td>FEXhWNCMkv22qG04E83Qjg</td>\n",
       "      <td>2010-01-16 07:39:02, 2010-01-17 14:04:18, 2010...</td>\n",
       "      <td>842287</td>\n",
       "    </tr>\n",
       "    <tr>\n",
       "      <th>2</th>\n",
       "      <td>Eb1XmmLWyt_way5NNZ7-Pw</td>\n",
       "      <td>2010-01-21 19:43:12, 2010-02-03 10:17:21, 2010...</td>\n",
       "      <td>788800</td>\n",
       "    </tr>\n",
       "    <tr>\n",
       "      <th>3</th>\n",
       "      <td>c_4c5rJECZSfNgFj7frwHQ</td>\n",
       "      <td>2010-02-06 18:03:00, 2010-02-08 00:06:52, 2010...</td>\n",
       "      <td>787876</td>\n",
       "    </tr>\n",
       "    <tr>\n",
       "      <th>4</th>\n",
       "      <td>4i4kmYm9wgSNyF1b6gKphg</td>\n",
       "      <td>2010-01-21 19:31:34, 2010-01-26 22:12:24, 2010...</td>\n",
       "      <td>654526</td>\n",
       "    </tr>\n",
       "    <tr>\n",
       "      <th>...</th>\n",
       "      <td>...</td>\n",
       "      <td>...</td>\n",
       "      <td>...</td>\n",
       "    </tr>\n",
       "    <tr>\n",
       "      <th>131925</th>\n",
       "      <td>vo_ExfVtnzWTwedmFCpzXQ</td>\n",
       "      <td>2018-10-31 21:09:27</td>\n",
       "      <td>19</td>\n",
       "    </tr>\n",
       "    <tr>\n",
       "      <th>131926</th>\n",
       "      <td>m44uqdqZyz7AQJhcCu7DUg</td>\n",
       "      <td>2014-07-15 02:53:02</td>\n",
       "      <td>19</td>\n",
       "    </tr>\n",
       "    <tr>\n",
       "      <th>131927</th>\n",
       "      <td>vojJhH78rcYpDFPft5dCyA</td>\n",
       "      <td>2017-06-06 19:20:45</td>\n",
       "      <td>19</td>\n",
       "    </tr>\n",
       "    <tr>\n",
       "      <th>131928</th>\n",
       "      <td>volXGKIzsd9y_pvZb3dB7A</td>\n",
       "      <td>2019-07-08 20:26:20</td>\n",
       "      <td>19</td>\n",
       "    </tr>\n",
       "    <tr>\n",
       "      <th>131929</th>\n",
       "      <td>zzyx5x0Z7xXWWvWnZFuxlQ</td>\n",
       "      <td>2015-01-06 17:51:53</td>\n",
       "      <td>19</td>\n",
       "    </tr>\n",
       "  </tbody>\n",
       "</table>\n",
       "<p>131930 rows × 3 columns</p>\n",
       "</div>"
      ],
      "text/plain": [
       "                   business_id  \\\n",
       "0       -QI8Qi8XWH3D8y8ethnajA   \n",
       "1       FEXhWNCMkv22qG04E83Qjg   \n",
       "2       Eb1XmmLWyt_way5NNZ7-Pw   \n",
       "3       c_4c5rJECZSfNgFj7frwHQ   \n",
       "4       4i4kmYm9wgSNyF1b6gKphg   \n",
       "...                        ...   \n",
       "131925  vo_ExfVtnzWTwedmFCpzXQ   \n",
       "131926  m44uqdqZyz7AQJhcCu7DUg   \n",
       "131927  vojJhH78rcYpDFPft5dCyA   \n",
       "131928  volXGKIzsd9y_pvZb3dB7A   \n",
       "131929  zzyx5x0Z7xXWWvWnZFuxlQ   \n",
       "\n",
       "                                                     date  dateLength  \n",
       "0       2010-01-17 16:30:46, 2010-01-18 20:17:55, 2010...     1095022  \n",
       "1       2010-01-16 07:39:02, 2010-01-17 14:04:18, 2010...      842287  \n",
       "2       2010-01-21 19:43:12, 2010-02-03 10:17:21, 2010...      788800  \n",
       "3       2010-02-06 18:03:00, 2010-02-08 00:06:52, 2010...      787876  \n",
       "4       2010-01-21 19:31:34, 2010-01-26 22:12:24, 2010...      654526  \n",
       "...                                                   ...         ...  \n",
       "131925                                2018-10-31 21:09:27          19  \n",
       "131926                                2014-07-15 02:53:02          19  \n",
       "131927                                2017-06-06 19:20:45          19  \n",
       "131928                                2019-07-08 20:26:20          19  \n",
       "131929                                2015-01-06 17:51:53          19  \n",
       "\n",
       "[131930 rows x 3 columns]"
      ]
     },
     "execution_count": 5,
     "metadata": {},
     "output_type": "execute_result"
    }
   ],
   "source": [
    "#Uses the stored index in \"s\" to keep the date with its corresponding business_id and resets the index to 0\n",
    "sortedCheck = sortedCheck.reindex(s).reset_index(drop=True)\n",
    "sortedCheck"
   ]
  },
  {
   "cell_type": "code",
   "execution_count": 6,
   "id": "d51c7c1a-a9a4-4d76-a0b4-fddf78d38977",
   "metadata": {},
   "outputs": [],
   "source": [
    "#Dropping the datelength column because I've confirmed this code functions as intended\n",
    "sortedCheck.drop('dateLength', axis=1, inplace=True)\n",
    "#Keeping only the first 600 rows\n",
    "sortedCheck.drop(sortedCheck.index[600:131930], inplace=True)"
   ]
  },
  {
   "cell_type": "code",
   "execution_count": 7,
   "id": "32e32ec6-e5cc-4a1f-87af-efe112a6c0ce",
   "metadata": {
    "scrolled": true
   },
   "outputs": [
    {
     "data": {
      "text/html": [
       "<div>\n",
       "<style scoped>\n",
       "    .dataframe tbody tr th:only-of-type {\n",
       "        vertical-align: middle;\n",
       "    }\n",
       "\n",
       "    .dataframe tbody tr th {\n",
       "        vertical-align: top;\n",
       "    }\n",
       "\n",
       "    .dataframe thead th {\n",
       "        text-align: right;\n",
       "    }\n",
       "</style>\n",
       "<table border=\"1\" class=\"dataframe\">\n",
       "  <thead>\n",
       "    <tr style=\"text-align: right;\">\n",
       "      <th></th>\n",
       "      <th>business_id</th>\n",
       "      <th>date</th>\n",
       "    </tr>\n",
       "  </thead>\n",
       "  <tbody>\n",
       "    <tr>\n",
       "      <th>0</th>\n",
       "      <td>-QI8Qi8XWH3D8y8ethnajA</td>\n",
       "      <td>2010-01-17 16:30:46, 2010-01-18 20:17:55, 2010...</td>\n",
       "    </tr>\n",
       "    <tr>\n",
       "      <th>1</th>\n",
       "      <td>FEXhWNCMkv22qG04E83Qjg</td>\n",
       "      <td>2010-01-16 07:39:02, 2010-01-17 14:04:18, 2010...</td>\n",
       "    </tr>\n",
       "    <tr>\n",
       "      <th>2</th>\n",
       "      <td>Eb1XmmLWyt_way5NNZ7-Pw</td>\n",
       "      <td>2010-01-21 19:43:12, 2010-02-03 10:17:21, 2010...</td>\n",
       "    </tr>\n",
       "    <tr>\n",
       "      <th>3</th>\n",
       "      <td>c_4c5rJECZSfNgFj7frwHQ</td>\n",
       "      <td>2010-02-06 18:03:00, 2010-02-08 00:06:52, 2010...</td>\n",
       "    </tr>\n",
       "    <tr>\n",
       "      <th>4</th>\n",
       "      <td>4i4kmYm9wgSNyF1b6gKphg</td>\n",
       "      <td>2010-01-21 19:31:34, 2010-01-26 22:12:24, 2010...</td>\n",
       "    </tr>\n",
       "  </tbody>\n",
       "</table>\n",
       "</div>"
      ],
      "text/plain": [
       "              business_id                                               date\n",
       "0  -QI8Qi8XWH3D8y8ethnajA  2010-01-17 16:30:46, 2010-01-18 20:17:55, 2010...\n",
       "1  FEXhWNCMkv22qG04E83Qjg  2010-01-16 07:39:02, 2010-01-17 14:04:18, 2010...\n",
       "2  Eb1XmmLWyt_way5NNZ7-Pw  2010-01-21 19:43:12, 2010-02-03 10:17:21, 2010...\n",
       "3  c_4c5rJECZSfNgFj7frwHQ  2010-02-06 18:03:00, 2010-02-08 00:06:52, 2010...\n",
       "4  4i4kmYm9wgSNyF1b6gKphg  2010-01-21 19:31:34, 2010-01-26 22:12:24, 2010..."
      ]
     },
     "execution_count": 7,
     "metadata": {},
     "output_type": "execute_result"
    }
   ],
   "source": [
    "sortedCheck.head()"
   ]
  },
  {
   "cell_type": "markdown",
   "id": "69a97121-7207-401e-84a7-f4fb93866f6d",
   "metadata": {},
   "source": [
    "#### Dataset 2\n",
    "The second dataset contains business information from Yelp's API, Yelp Fusion API. This API allows me to use API calls to gather additional information about each `business_id` value in the `sortedCheck` dataframe. I will query for these businesses' `name`, `rating`, `review_count`, `category`, `city`, `state`, and `zip_code`. These will be the variables in the second dataset.\n",
    "\n",
    "Even though I already know the `business_id` of each business (gathered from the first dataset), I will query for the `id`s in the second dataset as well. This will make combining the 2 datasets easier because the `business_id` will serve as the key.\n",
    "\n",
    "The Yelp Fusion API only allows 500 API calls per day. The API call limit resets at 4PM Pacific Standard Time. Since I have 600 rows in this dataset, I will split the `business_id`s into 2 lists. Then I will take advantage of the reset at 4PM and query `listId1` before 4PM and `listId2` after 4PM."
   ]
  },
  {
   "cell_type": "code",
   "execution_count": 8,
   "id": "d9e756d6-2b05-4b91-b2e0-926f79054f1b",
   "metadata": {},
   "outputs": [],
   "source": [
    "#Converting the business_id column's values to a list\n",
    "listId = sortedCheck['business_id'].tolist()\n",
    "\n",
    "#Since my API Key only allows for 500 API calls per day, I will split these 600 business_ids into 2 lists\n",
    "listId1 = listId[:500]\n",
    "listId2 = listId[500:]"
   ]
  },
  {
   "cell_type": "code",
   "execution_count": 9,
   "id": "9b74eeba-7ece-4772-b58f-8a72ab8309c4",
   "metadata": {},
   "outputs": [],
   "source": [
    "#Function used to make API requests for each business_id from the first dataset (ListId1 + ListId2)\n",
    "def getmoredata(id):\n",
    "    #config is a py file containing just the api key; it keeps my key hidden to comply with Yelp's terms of use\n",
    "    import config\n",
    "    api_key = config.api_key\n",
    "    # Defines the business search and header\n",
    "    PATH = 'https://api.yelp.com/v3/businesses/'+ id\n",
    "    HEADER = {'Authorization': 'bearer %s' % api_key,\n",
    "               'accept': 'application/json'}\n",
    "    \n",
    "    #Makes a request to the Yelp API and returns the result\n",
    "    response = requests.get(url=PATH, \n",
    "                            headers=HEADER)\n",
    "    #Converts the response to a JSON string\n",
    "    return response.json()"
   ]
  },
  {
   "cell_type": "code",
   "execution_count": 10,
   "id": "281d104e-e1e8-4842-9260-c1acc9abdacd",
   "metadata": {},
   "outputs": [],
   "source": [
    "#This extracts specific details of each business using the business_ids from the SortedCheck dataframe \n",
    "def obtain(info):\n",
    "    checkInBiz = []\n",
    "    singleBiz = []\n",
    "    #add every detail into singleBiz\n",
    "    singleBiz.append(info['id'])\n",
    "    singleBiz.append(info['name'])\n",
    "    singleBiz.append(info['rating'])\n",
    "    singleBiz.append(info['review_count'])\n",
    "    singleBiz.append(info['categories'])\n",
    "    singleBiz.append(info['location']['city'])\n",
    "    singleBiz.append(info['location']['state'])\n",
    "    singleBiz.append(info['location']['zip_code'])\n",
    "    checkInBiz.append(singleBiz)\n",
    "    return checkInBiz"
   ]
  },
  {
   "cell_type": "markdown",
   "id": "55c2ed1c-7713-4ce1-866d-85c7400a493d",
   "metadata": {},
   "source": [
    "First, I made an API call for `listId1` in order to gather data for the first 500 `business_id`s in the `sortedCheck` dataframe and saved the results to a new dataframe and a local csv file titled \"businessInfo.csv\"."
   ]
  },
  {
   "cell_type": "code",
   "execution_count": 11,
   "id": "90fb7c27-7b06-4a0c-9676-98ca2f93418a",
   "metadata": {},
   "outputs": [],
   "source": [
    "#Initializing the list that will contain all of the data queried for each business_id from the SortedCheck dataframe \n",
    "addData = []\n",
    "\n",
    "#for loop that passes each business_id into the getmoredata function then passes the result into the obtain function to get the specific features of each business_id\n",
    "for id in listId1:\n",
    "    info = getmoredata(id)\n",
    "    addData.extend(obtain(info))\n",
    "\n",
    "#Puts all of the information added into \"addData\" into a dataframe\n",
    "bizInfo1 = pd.DataFrame(addData, columns=['business_id', 'name', 'rating', 'review_count', 'category', 'city', 'state', 'zip_code'])\n",
    "#Writes this information from the dataframe into a csv file \n",
    "bizInfo1.to_csv('businessInfo.csv', mode='a', index=False)"
   ]
  },
  {
   "cell_type": "markdown",
   "id": "1765da4f-3284-430e-9c26-ada0d6718ffd",
   "metadata": {},
   "source": [
    "After 4PM, my API call limit reset. I used the same code to make an API call for `listId2` for the *last* 100 `business_id`s in the `sortedCheck` dataframe and saved the results to a new dataframe and a local csv file titled \"businessInfo.csv\". I saved the results from both API calls into this csv file because it takes days to acquire all of this data."
   ]
  },
  {
   "cell_type": "code",
   "execution_count": 12,
   "id": "ddd18b91-200d-460e-a06d-edfa762cf7b5",
   "metadata": {},
   "outputs": [],
   "source": [
    "#Initializing the list that will contain all of the data queried for each business_id from the SortedCheck dataframe \n",
    "addData = []\n",
    "\n",
    "#for loop that passes each business_id into the getmoredata function then passes the result into the obtain function to get the specific features of each business_id\n",
    "for id in listId2:\n",
    "    info = getmoredata(id)\n",
    "    addData.extend(obtain(info))\n",
    "\n",
    "#Puts all of the information added into \"addData\" into a dataframe\n",
    "bizInfo2 = pd.DataFrame(addData, columns=['business_id', 'name', 'rating', 'review_count', 'category', 'city', 'state', 'zip_code'])\n",
    "#Writes this information from the dataframe into a csv file \n",
    "bizInfo2.to_csv('businessInfo.csv', mode='a', index=False, header=False)"
   ]
  },
  {
   "cell_type": "code",
   "execution_count": 13,
   "id": "b7805fb1-2f2b-4568-8c08-e8a482f4950b",
   "metadata": {},
   "outputs": [],
   "source": [
    "#Combining the 2 dataframes into one to combine all 600 rows again\n",
    "bizData = pd.concat([bizInfo1, bizInfo2])"
   ]
  },
  {
   "cell_type": "code",
   "execution_count": 14,
   "id": "be38ac16-344d-4522-b8b5-f1d06052e2b4",
   "metadata": {
    "scrolled": true
   },
   "outputs": [
    {
     "data": {
      "text/html": [
       "<div>\n",
       "<style scoped>\n",
       "    .dataframe tbody tr th:only-of-type {\n",
       "        vertical-align: middle;\n",
       "    }\n",
       "\n",
       "    .dataframe tbody tr th {\n",
       "        vertical-align: top;\n",
       "    }\n",
       "\n",
       "    .dataframe thead th {\n",
       "        text-align: right;\n",
       "    }\n",
       "</style>\n",
       "<table border=\"1\" class=\"dataframe\">\n",
       "  <thead>\n",
       "    <tr style=\"text-align: right;\">\n",
       "      <th></th>\n",
       "      <th>business_id</th>\n",
       "      <th>name</th>\n",
       "      <th>rating</th>\n",
       "      <th>review_count</th>\n",
       "      <th>category</th>\n",
       "      <th>city</th>\n",
       "      <th>state</th>\n",
       "      <th>zip_code</th>\n",
       "    </tr>\n",
       "  </thead>\n",
       "  <tbody>\n",
       "    <tr>\n",
       "      <th>0</th>\n",
       "      <td>-QI8Qi8XWH3D8y8ethnajA</td>\n",
       "      <td>Philadelphia International Airport - PHL</td>\n",
       "      <td>2.5</td>\n",
       "      <td>2338</td>\n",
       "      <td>[{'alias': 'airports', 'title': 'Airports'}]</td>\n",
       "      <td>Philadelphia</td>\n",
       "      <td>PA</td>\n",
       "      <td>19153</td>\n",
       "    </tr>\n",
       "    <tr>\n",
       "      <th>1</th>\n",
       "      <td>FEXhWNCMkv22qG04E83Qjg</td>\n",
       "      <td>Cafe Du Monde</td>\n",
       "      <td>4.0</td>\n",
       "      <td>3126</td>\n",
       "      <td>[{'alias': 'coffee', 'title': 'Coffee &amp; Tea'},...</td>\n",
       "      <td>New Orleans</td>\n",
       "      <td>LA</td>\n",
       "      <td>70116</td>\n",
       "    </tr>\n",
       "    <tr>\n",
       "      <th>2</th>\n",
       "      <td>Eb1XmmLWyt_way5NNZ7-Pw</td>\n",
       "      <td>Louis Armstrong New Orleans International Airp...</td>\n",
       "      <td>3.0</td>\n",
       "      <td>1969</td>\n",
       "      <td>[{'alias': 'airports', 'title': 'Airports'}]</td>\n",
       "      <td>Kenner</td>\n",
       "      <td>LA</td>\n",
       "      <td>70062</td>\n",
       "    </tr>\n",
       "    <tr>\n",
       "      <th>3</th>\n",
       "      <td>c_4c5rJECZSfNgFj7frwHQ</td>\n",
       "      <td>Tampa International Airport</td>\n",
       "      <td>4.0</td>\n",
       "      <td>2033</td>\n",
       "      <td>[{'alias': 'airports', 'title': 'Airports'}]</td>\n",
       "      <td>Tampa</td>\n",
       "      <td>FL</td>\n",
       "      <td>33607</td>\n",
       "    </tr>\n",
       "    <tr>\n",
       "      <th>4</th>\n",
       "      <td>4i4kmYm9wgSNyF1b6gKphg</td>\n",
       "      <td>Nashville International Airport - BNA</td>\n",
       "      <td>3.5</td>\n",
       "      <td>1140</td>\n",
       "      <td>[{'alias': 'airports', 'title': 'Airports'}]</td>\n",
       "      <td>Nashville</td>\n",
       "      <td>TN</td>\n",
       "      <td>37214</td>\n",
       "    </tr>\n",
       "  </tbody>\n",
       "</table>\n",
       "</div>"
      ],
      "text/plain": [
       "              business_id                                               name  \\\n",
       "0  -QI8Qi8XWH3D8y8ethnajA           Philadelphia International Airport - PHL   \n",
       "1  FEXhWNCMkv22qG04E83Qjg                                      Cafe Du Monde   \n",
       "2  Eb1XmmLWyt_way5NNZ7-Pw  Louis Armstrong New Orleans International Airp...   \n",
       "3  c_4c5rJECZSfNgFj7frwHQ                        Tampa International Airport   \n",
       "4  4i4kmYm9wgSNyF1b6gKphg              Nashville International Airport - BNA   \n",
       "\n",
       "   rating  review_count                                           category  \\\n",
       "0     2.5          2338       [{'alias': 'airports', 'title': 'Airports'}]   \n",
       "1     4.0          3126  [{'alias': 'coffee', 'title': 'Coffee & Tea'},...   \n",
       "2     3.0          1969       [{'alias': 'airports', 'title': 'Airports'}]   \n",
       "3     4.0          2033       [{'alias': 'airports', 'title': 'Airports'}]   \n",
       "4     3.5          1140       [{'alias': 'airports', 'title': 'Airports'}]   \n",
       "\n",
       "           city state zip_code  \n",
       "0  Philadelphia    PA    19153  \n",
       "1   New Orleans    LA    70116  \n",
       "2        Kenner    LA    70062  \n",
       "3         Tampa    FL    33607  \n",
       "4     Nashville    TN    37214  "
      ]
     },
     "execution_count": 14,
     "metadata": {},
     "output_type": "execute_result"
    }
   ],
   "source": [
    "#Loads the COMPLETE dataset gathered from the 2 API calls\n",
    "bizData.head()"
   ]
  },
  {
   "cell_type": "code",
   "execution_count": 15,
   "id": "8fc2f9e5-2be8-48c2-b02b-979e8c42501c",
   "metadata": {
    "scrolled": true
   },
   "outputs": [
    {
     "data": {
      "text/html": [
       "<div>\n",
       "<style scoped>\n",
       "    .dataframe tbody tr th:only-of-type {\n",
       "        vertical-align: middle;\n",
       "    }\n",
       "\n",
       "    .dataframe tbody tr th {\n",
       "        vertical-align: top;\n",
       "    }\n",
       "\n",
       "    .dataframe thead th {\n",
       "        text-align: right;\n",
       "    }\n",
       "</style>\n",
       "<table border=\"1\" class=\"dataframe\">\n",
       "  <thead>\n",
       "    <tr style=\"text-align: right;\">\n",
       "      <th></th>\n",
       "      <th>business_id</th>\n",
       "      <th>name</th>\n",
       "      <th>rating</th>\n",
       "      <th>review_count</th>\n",
       "      <th>category</th>\n",
       "      <th>city</th>\n",
       "      <th>state</th>\n",
       "      <th>zip_code</th>\n",
       "    </tr>\n",
       "  </thead>\n",
       "  <tbody>\n",
       "    <tr>\n",
       "      <th>0</th>\n",
       "      <td>-QI8Qi8XWH3D8y8ethnajA</td>\n",
       "      <td>Philadelphia International Airport - PHL</td>\n",
       "      <td>2.5</td>\n",
       "      <td>2338</td>\n",
       "      <td>[{'alias': 'airports', 'title': 'Airports'}]</td>\n",
       "      <td>Philadelphia</td>\n",
       "      <td>PA</td>\n",
       "      <td>19153</td>\n",
       "    </tr>\n",
       "    <tr>\n",
       "      <th>1</th>\n",
       "      <td>FEXhWNCMkv22qG04E83Qjg</td>\n",
       "      <td>Cafe Du Monde</td>\n",
       "      <td>4.0</td>\n",
       "      <td>3126</td>\n",
       "      <td>[{'alias': 'coffee', 'title': 'Coffee &amp; Tea'},...</td>\n",
       "      <td>New Orleans</td>\n",
       "      <td>LA</td>\n",
       "      <td>70116</td>\n",
       "    </tr>\n",
       "    <tr>\n",
       "      <th>2</th>\n",
       "      <td>Eb1XmmLWyt_way5NNZ7-Pw</td>\n",
       "      <td>Louis Armstrong New Orleans International Airp...</td>\n",
       "      <td>3.0</td>\n",
       "      <td>1969</td>\n",
       "      <td>[{'alias': 'airports', 'title': 'Airports'}]</td>\n",
       "      <td>Kenner</td>\n",
       "      <td>LA</td>\n",
       "      <td>70062</td>\n",
       "    </tr>\n",
       "    <tr>\n",
       "      <th>3</th>\n",
       "      <td>c_4c5rJECZSfNgFj7frwHQ</td>\n",
       "      <td>Tampa International Airport</td>\n",
       "      <td>4.0</td>\n",
       "      <td>2033</td>\n",
       "      <td>[{'alias': 'airports', 'title': 'Airports'}]</td>\n",
       "      <td>Tampa</td>\n",
       "      <td>FL</td>\n",
       "      <td>33607</td>\n",
       "    </tr>\n",
       "    <tr>\n",
       "      <th>4</th>\n",
       "      <td>4i4kmYm9wgSNyF1b6gKphg</td>\n",
       "      <td>Nashville International Airport - BNA</td>\n",
       "      <td>3.5</td>\n",
       "      <td>1140</td>\n",
       "      <td>[{'alias': 'airports', 'title': 'Airports'}]</td>\n",
       "      <td>Nashville</td>\n",
       "      <td>TN</td>\n",
       "      <td>37214</td>\n",
       "    </tr>\n",
       "  </tbody>\n",
       "</table>\n",
       "</div>"
      ],
      "text/plain": [
       "              business_id                                               name  \\\n",
       "0  -QI8Qi8XWH3D8y8ethnajA           Philadelphia International Airport - PHL   \n",
       "1  FEXhWNCMkv22qG04E83Qjg                                      Cafe Du Monde   \n",
       "2  Eb1XmmLWyt_way5NNZ7-Pw  Louis Armstrong New Orleans International Airp...   \n",
       "3  c_4c5rJECZSfNgFj7frwHQ                        Tampa International Airport   \n",
       "4  4i4kmYm9wgSNyF1b6gKphg              Nashville International Airport - BNA   \n",
       "\n",
       "   rating  review_count                                           category  \\\n",
       "0     2.5          2338       [{'alias': 'airports', 'title': 'Airports'}]   \n",
       "1     4.0          3126  [{'alias': 'coffee', 'title': 'Coffee & Tea'},...   \n",
       "2     3.0          1969       [{'alias': 'airports', 'title': 'Airports'}]   \n",
       "3     4.0          2033       [{'alias': 'airports', 'title': 'Airports'}]   \n",
       "4     3.5          1140       [{'alias': 'airports', 'title': 'Airports'}]   \n",
       "\n",
       "           city state zip_code  \n",
       "0  Philadelphia    PA    19153  \n",
       "1   New Orleans    LA    70116  \n",
       "2        Kenner    LA    70062  \n",
       "3         Tampa    FL    33607  \n",
       "4     Nashville    TN    37214  "
      ]
     },
     "execution_count": 15,
     "metadata": {},
     "output_type": "execute_result"
    }
   ],
   "source": [
    "#The code below loads the CSV file I saved both of the API calls to. I made this CSV file because it takes multiple days to acquire this data\n",
    "#due to Yelp's daily API limit.\n",
    "bizDataCsv = pd.read_csv('businessInfo.csv')\n",
    "bizDataCsv.head()"
   ]
  },
  {
   "cell_type": "markdown",
   "id": "fd6c21e2-69f4-43ad-921b-0f3f22368042",
   "metadata": {},
   "source": [
    "Due to Yelp's daily API limit, I don't expect the project reviewer to be able to request and acquire the data for `listId1` and `listId2` in one day. I was able to do it in one day because I sent the API request for `listId1` before 4PM (PST) and then I sent the request for `listId2` after 4PM (PST).\n",
    "To ensure the code for the second dataset runs as intended on the reviewer's end, I will use the variable `bizDataCsv` to refer to the second dataset."
   ]
  },
  {
   "cell_type": "markdown",
   "id": "a254c1f7-717b-46dd-a824-9fae954d28eb",
   "metadata": {},
   "source": [
    "## Assess Data\n",
    "I will assess the `sortedCheck` and the `bizDataCsv` dataframe visually and programmatically for data quality issues and data tidiness issues."
   ]
  },
  {
   "cell_type": "code",
   "execution_count": 16,
   "id": "d1a628e3-9a1e-4140-86e8-28f25f79e69e",
   "metadata": {},
   "outputs": [
    {
     "name": "stdout",
     "output_type": "stream",
     "text": [
      "<class 'pandas.core.frame.DataFrame'>\n",
      "RangeIndex: 600 entries, 0 to 599\n",
      "Data columns (total 2 columns):\n",
      " #   Column       Non-Null Count  Dtype \n",
      "---  ------       --------------  ----- \n",
      " 0   business_id  600 non-null    object\n",
      " 1   date         600 non-null    object\n",
      "dtypes: object(2)\n",
      "memory usage: 9.5+ KB\n"
     ]
    }
   ],
   "source": [
    "sortedCheck.info()"
   ]
  },
  {
   "cell_type": "code",
   "execution_count": 17,
   "id": "237147ce-b15b-470a-8416-2d084680c260",
   "metadata": {},
   "outputs": [
    {
     "data": {
      "text/plain": [
       "business_id    0\n",
       "date           0\n",
       "dtype: int64"
      ]
     },
     "execution_count": 17,
     "metadata": {},
     "output_type": "execute_result"
    }
   ],
   "source": [
    "sortedCheck.isnull().sum()"
   ]
  },
  {
   "cell_type": "code",
   "execution_count": 18,
   "id": "43b17cef-e9f8-4504-8383-f054abd14f48",
   "metadata": {},
   "outputs": [
    {
     "data": {
      "text/plain": [
       "0"
      ]
     },
     "execution_count": 18,
     "metadata": {},
     "output_type": "execute_result"
    }
   ],
   "source": [
    "sortedCheck.duplicated().sum()"
   ]
  },
  {
   "cell_type": "code",
   "execution_count": 19,
   "id": "99d9e0f8-afdd-4afa-9608-34b6e3affd3d",
   "metadata": {},
   "outputs": [
    {
     "data": {
      "text/plain": [
       "business_id    600\n",
       "date           600\n",
       "dtype: int64"
      ]
     },
     "execution_count": 19,
     "metadata": {},
     "output_type": "execute_result"
    }
   ],
   "source": [
    "sortedCheck.nunique()"
   ]
  },
  {
   "cell_type": "code",
   "execution_count": 20,
   "id": "e29a9983-a531-41bc-80ac-9017620ce339",
   "metadata": {},
   "outputs": [
    {
     "data": {
      "text/html": [
       "<div>\n",
       "<style scoped>\n",
       "    .dataframe tbody tr th:only-of-type {\n",
       "        vertical-align: middle;\n",
       "    }\n",
       "\n",
       "    .dataframe tbody tr th {\n",
       "        vertical-align: top;\n",
       "    }\n",
       "\n",
       "    .dataframe thead th {\n",
       "        text-align: right;\n",
       "    }\n",
       "</style>\n",
       "<table border=\"1\" class=\"dataframe\">\n",
       "  <thead>\n",
       "    <tr style=\"text-align: right;\">\n",
       "      <th></th>\n",
       "      <th>business_id</th>\n",
       "      <th>date</th>\n",
       "    </tr>\n",
       "  </thead>\n",
       "  <tbody>\n",
       "    <tr>\n",
       "      <th>0</th>\n",
       "      <td>-QI8Qi8XWH3D8y8ethnajA</td>\n",
       "      <td>2010-01-17 16:30:46, 2010-01-18 20:17:55, 2010...</td>\n",
       "    </tr>\n",
       "    <tr>\n",
       "      <th>1</th>\n",
       "      <td>FEXhWNCMkv22qG04E83Qjg</td>\n",
       "      <td>2010-01-16 07:39:02, 2010-01-17 14:04:18, 2010...</td>\n",
       "    </tr>\n",
       "    <tr>\n",
       "      <th>2</th>\n",
       "      <td>Eb1XmmLWyt_way5NNZ7-Pw</td>\n",
       "      <td>2010-01-21 19:43:12, 2010-02-03 10:17:21, 2010...</td>\n",
       "    </tr>\n",
       "  </tbody>\n",
       "</table>\n",
       "</div>"
      ],
      "text/plain": [
       "              business_id                                               date\n",
       "0  -QI8Qi8XWH3D8y8ethnajA  2010-01-17 16:30:46, 2010-01-18 20:17:55, 2010...\n",
       "1  FEXhWNCMkv22qG04E83Qjg  2010-01-16 07:39:02, 2010-01-17 14:04:18, 2010...\n",
       "2  Eb1XmmLWyt_way5NNZ7-Pw  2010-01-21 19:43:12, 2010-02-03 10:17:21, 2010..."
      ]
     },
     "execution_count": 20,
     "metadata": {},
     "output_type": "execute_result"
    }
   ],
   "source": [
    "sortedCheck.head(3)"
   ]
  },
  {
   "cell_type": "markdown",
   "id": "d0f65969-fac8-4ed8-baf0-e7724f505e2b",
   "metadata": {},
   "source": [
    "The `sortedCheck` dataframe is complete, it has no missing values. All of the `business_id` values are unique and this dataframe does not contain any duplicated rows. The `.info()` method shows that the `date` column's values are stored as an `object` data type, when dates are usually stored as a `datetime` data type. Normally, this would be a data quality issue. The values stored in `date` consist of a *string* of multiple check-in dates, so I understand why this wasn't stored as a `datetime` data type.\n",
    "For the end-goal of this project, I will have this dataframe store the number of check-ins rather than the dates of the check-ins."
   ]
  },
  {
   "cell_type": "markdown",
   "id": "862ca4ea-4c92-4e6d-a0c0-90af77aa2151",
   "metadata": {},
   "source": [
    "### Tidiness Issue #1: Multiple variables are stored in 1 column\n",
    "\n",
    "The `sortedCheck` dataframe currently stores multiple variables in one column. It stores the total number of check-ins and the dates of when people checked into a business in the `date` column.\n",
    "To address this issue, I will find out how many check-ins there are for each business. Then I will create a column called `checkin_count` and its values will be the number of check-ins that each business has. Lastly, I will drop the `date` column because I'm not interested in the specific date of each check-in for this project."
   ]
  },
  {
   "cell_type": "markdown",
   "id": "c5bfac8f-3def-45f3-a757-0910fa067a7c",
   "metadata": {},
   "source": [
    "Now I will assess the `bizDataCsv` dataframe for any issues."
   ]
  },
  {
   "cell_type": "code",
   "execution_count": 21,
   "id": "4ab68c78-d43d-45c7-854a-ffc7e7ea97f4",
   "metadata": {
    "scrolled": true
   },
   "outputs": [
    {
     "data": {
      "text/html": [
       "<div>\n",
       "<style scoped>\n",
       "    .dataframe tbody tr th:only-of-type {\n",
       "        vertical-align: middle;\n",
       "    }\n",
       "\n",
       "    .dataframe tbody tr th {\n",
       "        vertical-align: top;\n",
       "    }\n",
       "\n",
       "    .dataframe thead th {\n",
       "        text-align: right;\n",
       "    }\n",
       "</style>\n",
       "<table border=\"1\" class=\"dataframe\">\n",
       "  <thead>\n",
       "    <tr style=\"text-align: right;\">\n",
       "      <th></th>\n",
       "      <th>business_id</th>\n",
       "      <th>name</th>\n",
       "      <th>rating</th>\n",
       "      <th>review_count</th>\n",
       "      <th>category</th>\n",
       "      <th>city</th>\n",
       "      <th>state</th>\n",
       "      <th>zip_code</th>\n",
       "    </tr>\n",
       "  </thead>\n",
       "  <tbody>\n",
       "    <tr>\n",
       "      <th>0</th>\n",
       "      <td>-QI8Qi8XWH3D8y8ethnajA</td>\n",
       "      <td>Philadelphia International Airport - PHL</td>\n",
       "      <td>2.5</td>\n",
       "      <td>2338</td>\n",
       "      <td>[{'alias': 'airports', 'title': 'Airports'}]</td>\n",
       "      <td>Philadelphia</td>\n",
       "      <td>PA</td>\n",
       "      <td>19153</td>\n",
       "    </tr>\n",
       "    <tr>\n",
       "      <th>1</th>\n",
       "      <td>FEXhWNCMkv22qG04E83Qjg</td>\n",
       "      <td>Cafe Du Monde</td>\n",
       "      <td>4.0</td>\n",
       "      <td>3126</td>\n",
       "      <td>[{'alias': 'coffee', 'title': 'Coffee &amp; Tea'},...</td>\n",
       "      <td>New Orleans</td>\n",
       "      <td>LA</td>\n",
       "      <td>70116</td>\n",
       "    </tr>\n",
       "    <tr>\n",
       "      <th>2</th>\n",
       "      <td>Eb1XmmLWyt_way5NNZ7-Pw</td>\n",
       "      <td>Louis Armstrong New Orleans International Airp...</td>\n",
       "      <td>3.0</td>\n",
       "      <td>1969</td>\n",
       "      <td>[{'alias': 'airports', 'title': 'Airports'}]</td>\n",
       "      <td>Kenner</td>\n",
       "      <td>LA</td>\n",
       "      <td>70062</td>\n",
       "    </tr>\n",
       "    <tr>\n",
       "      <th>3</th>\n",
       "      <td>c_4c5rJECZSfNgFj7frwHQ</td>\n",
       "      <td>Tampa International Airport</td>\n",
       "      <td>4.0</td>\n",
       "      <td>2033</td>\n",
       "      <td>[{'alias': 'airports', 'title': 'Airports'}]</td>\n",
       "      <td>Tampa</td>\n",
       "      <td>FL</td>\n",
       "      <td>33607</td>\n",
       "    </tr>\n",
       "    <tr>\n",
       "      <th>4</th>\n",
       "      <td>4i4kmYm9wgSNyF1b6gKphg</td>\n",
       "      <td>Nashville International Airport - BNA</td>\n",
       "      <td>3.5</td>\n",
       "      <td>1140</td>\n",
       "      <td>[{'alias': 'airports', 'title': 'Airports'}]</td>\n",
       "      <td>Nashville</td>\n",
       "      <td>TN</td>\n",
       "      <td>37214</td>\n",
       "    </tr>\n",
       "  </tbody>\n",
       "</table>\n",
       "</div>"
      ],
      "text/plain": [
       "              business_id                                               name  \\\n",
       "0  -QI8Qi8XWH3D8y8ethnajA           Philadelphia International Airport - PHL   \n",
       "1  FEXhWNCMkv22qG04E83Qjg                                      Cafe Du Monde   \n",
       "2  Eb1XmmLWyt_way5NNZ7-Pw  Louis Armstrong New Orleans International Airp...   \n",
       "3  c_4c5rJECZSfNgFj7frwHQ                        Tampa International Airport   \n",
       "4  4i4kmYm9wgSNyF1b6gKphg              Nashville International Airport - BNA   \n",
       "\n",
       "   rating  review_count                                           category  \\\n",
       "0     2.5          2338       [{'alias': 'airports', 'title': 'Airports'}]   \n",
       "1     4.0          3126  [{'alias': 'coffee', 'title': 'Coffee & Tea'},...   \n",
       "2     3.0          1969       [{'alias': 'airports', 'title': 'Airports'}]   \n",
       "3     4.0          2033       [{'alias': 'airports', 'title': 'Airports'}]   \n",
       "4     3.5          1140       [{'alias': 'airports', 'title': 'Airports'}]   \n",
       "\n",
       "           city state zip_code  \n",
       "0  Philadelphia    PA    19153  \n",
       "1   New Orleans    LA    70116  \n",
       "2        Kenner    LA    70062  \n",
       "3         Tampa    FL    33607  \n",
       "4     Nashville    TN    37214  "
      ]
     },
     "execution_count": 21,
     "metadata": {},
     "output_type": "execute_result"
    }
   ],
   "source": [
    "bizDataCsv.head()"
   ]
  },
  {
   "cell_type": "code",
   "execution_count": 22,
   "id": "ce57064c-8cb5-4307-980f-59b9f3efb400",
   "metadata": {},
   "outputs": [
    {
     "name": "stdout",
     "output_type": "stream",
     "text": [
      "<class 'pandas.core.frame.DataFrame'>\n",
      "RangeIndex: 600 entries, 0 to 599\n",
      "Data columns (total 8 columns):\n",
      " #   Column        Non-Null Count  Dtype  \n",
      "---  ------        --------------  -----  \n",
      " 0   business_id   600 non-null    object \n",
      " 1   name          600 non-null    object \n",
      " 2   rating        600 non-null    float64\n",
      " 3   review_count  600 non-null    int64  \n",
      " 4   category      600 non-null    object \n",
      " 5   city          600 non-null    object \n",
      " 6   state         600 non-null    object \n",
      " 7   zip_code      600 non-null    object \n",
      "dtypes: float64(1), int64(1), object(6)\n",
      "memory usage: 37.6+ KB\n"
     ]
    }
   ],
   "source": [
    "bizDataCsv.info()"
   ]
  },
  {
   "cell_type": "markdown",
   "id": "102df184-8914-4d33-a681-e4a11adb3480",
   "metadata": {},
   "source": [
    "The `bizDataCsv` dataframe is complete, it does not have any missing values."
   ]
  },
  {
   "cell_type": "code",
   "execution_count": 23,
   "id": "817a535d-ea94-4fe7-8df4-05d567c6a27b",
   "metadata": {},
   "outputs": [
    {
     "data": {
      "text/plain": [
       "array([2.5, 4. , 3. , 3.5, 4.5, 5. , 2. , 1.5])"
      ]
     },
     "execution_count": 23,
     "metadata": {},
     "output_type": "execute_result"
    }
   ],
   "source": [
    "#Confirms that every value in the rating column contains a decimal.\n",
    "bizDataCsv.rating.unique()"
   ]
  },
  {
   "cell_type": "code",
   "execution_count": 24,
   "id": "97eee12c-c3b0-438f-942c-be117cf0a65f",
   "metadata": {},
   "outputs": [
    {
     "data": {
      "text/plain": [
       "600"
      ]
     },
     "execution_count": 24,
     "metadata": {},
     "output_type": "execute_result"
    }
   ],
   "source": [
    "#Confirms that every value in the review_count column is only integers\n",
    "intCheck = pd.to_numeric(bizDataCsv['review_count'], errors='coerce').notnull().sum()\n",
    "intCheck"
   ]
  },
  {
   "cell_type": "markdown",
   "id": "d6255681-559d-4f7f-97a4-1dde0fb21caa",
   "metadata": {},
   "source": [
    "### Quality Issue #1: Erroneous data type for `zip_code` column\n",
    "The `zip_code` column has zip code values so I expected this column to have an integer data type. As we can see from the `.info()` method, this column stores values as an `object` data type. To address this issue, I will change the data type of this column to an integer."
   ]
  },
  {
   "cell_type": "code",
   "execution_count": 25,
   "id": "f983c54d-282a-4137-8e52-6e69ae03fd42",
   "metadata": {},
   "outputs": [
    {
     "data": {
      "text/html": [
       "<div>\n",
       "<style scoped>\n",
       "    .dataframe tbody tr th:only-of-type {\n",
       "        vertical-align: middle;\n",
       "    }\n",
       "\n",
       "    .dataframe tbody tr th {\n",
       "        vertical-align: top;\n",
       "    }\n",
       "\n",
       "    .dataframe thead th {\n",
       "        text-align: right;\n",
       "    }\n",
       "</style>\n",
       "<table border=\"1\" class=\"dataframe\">\n",
       "  <thead>\n",
       "    <tr style=\"text-align: right;\">\n",
       "      <th></th>\n",
       "      <th>rating</th>\n",
       "      <th>review_count</th>\n",
       "    </tr>\n",
       "  </thead>\n",
       "  <tbody>\n",
       "    <tr>\n",
       "      <th>count</th>\n",
       "      <td>600.000000</td>\n",
       "      <td>600.000000</td>\n",
       "    </tr>\n",
       "    <tr>\n",
       "      <th>mean</th>\n",
       "      <td>3.950000</td>\n",
       "      <td>1223.121667</td>\n",
       "    </tr>\n",
       "    <tr>\n",
       "      <th>std</th>\n",
       "      <td>0.474737</td>\n",
       "      <td>1153.324368</td>\n",
       "    </tr>\n",
       "    <tr>\n",
       "      <th>min</th>\n",
       "      <td>1.500000</td>\n",
       "      <td>14.000000</td>\n",
       "    </tr>\n",
       "    <tr>\n",
       "      <th>25%</th>\n",
       "      <td>3.500000</td>\n",
       "      <td>458.000000</td>\n",
       "    </tr>\n",
       "    <tr>\n",
       "      <th>50%</th>\n",
       "      <td>4.000000</td>\n",
       "      <td>889.000000</td>\n",
       "    </tr>\n",
       "    <tr>\n",
       "      <th>75%</th>\n",
       "      <td>4.500000</td>\n",
       "      <td>1617.000000</td>\n",
       "    </tr>\n",
       "    <tr>\n",
       "      <th>max</th>\n",
       "      <td>5.000000</td>\n",
       "      <td>8913.000000</td>\n",
       "    </tr>\n",
       "  </tbody>\n",
       "</table>\n",
       "</div>"
      ],
      "text/plain": [
       "           rating  review_count\n",
       "count  600.000000    600.000000\n",
       "mean     3.950000   1223.121667\n",
       "std      0.474737   1153.324368\n",
       "min      1.500000     14.000000\n",
       "25%      3.500000    458.000000\n",
       "50%      4.000000    889.000000\n",
       "75%      4.500000   1617.000000\n",
       "max      5.000000   8913.000000"
      ]
     },
     "execution_count": 25,
     "metadata": {},
     "output_type": "execute_result"
    }
   ],
   "source": [
    "bizDataCsv.describe()"
   ]
  },
  {
   "cell_type": "code",
   "execution_count": 26,
   "id": "116ca71b-e3f2-47f1-aa8c-300b1bdee446",
   "metadata": {},
   "outputs": [
    {
     "data": {
      "text/plain": [
       "0"
      ]
     },
     "execution_count": 26,
     "metadata": {},
     "output_type": "execute_result"
    }
   ],
   "source": [
    "bizDataCsv.duplicated().sum()"
   ]
  },
  {
   "cell_type": "code",
   "execution_count": 27,
   "id": "1034b4fd-9db1-4d20-ba78-5a95102baee4",
   "metadata": {},
   "outputs": [
    {
     "data": {
      "text/plain": [
       "0"
      ]
     },
     "execution_count": 27,
     "metadata": {},
     "output_type": "execute_result"
    }
   ],
   "source": [
    "bizDataCsv.isnull().sum().sum()"
   ]
  },
  {
   "cell_type": "markdown",
   "id": "1b9a00e4-63bd-4c8e-a935-0817ec5aa692",
   "metadata": {},
   "source": [
    "The `bizDataCsv` dataframe has no duplicated values and no null values. The `.describe()` method reveals that all of the business ids in this dataframe are unique, so there are no duplicate business ids. "
   ]
  },
  {
   "cell_type": "code",
   "execution_count": 28,
   "id": "f6f9fc7b-2cee-4d72-be98-c5666ba48727",
   "metadata": {},
   "outputs": [
    {
     "data": {
      "text/html": [
       "<div>\n",
       "<style scoped>\n",
       "    .dataframe tbody tr th:only-of-type {\n",
       "        vertical-align: middle;\n",
       "    }\n",
       "\n",
       "    .dataframe tbody tr th {\n",
       "        vertical-align: top;\n",
       "    }\n",
       "\n",
       "    .dataframe thead th {\n",
       "        text-align: right;\n",
       "    }\n",
       "</style>\n",
       "<table border=\"1\" class=\"dataframe\">\n",
       "  <thead>\n",
       "    <tr style=\"text-align: right;\">\n",
       "      <th></th>\n",
       "      <th>business_id</th>\n",
       "      <th>name</th>\n",
       "      <th>rating</th>\n",
       "      <th>review_count</th>\n",
       "      <th>category</th>\n",
       "      <th>city</th>\n",
       "      <th>state</th>\n",
       "      <th>zip_code</th>\n",
       "    </tr>\n",
       "  </thead>\n",
       "  <tbody>\n",
       "    <tr>\n",
       "      <th>342</th>\n",
       "      <td>yYyljEUFGkezQXpzRlfqQA</td>\n",
       "      <td>West Edmonton Mall</td>\n",
       "      <td>4.0</td>\n",
       "      <td>223</td>\n",
       "      <td>[{'alias': 'shoppingcenters', 'title': 'Shoppi...</td>\n",
       "      <td>Edmonton</td>\n",
       "      <td>AB</td>\n",
       "      <td>T5T 4J2</td>\n",
       "    </tr>\n",
       "  </tbody>\n",
       "</table>\n",
       "</div>"
      ],
      "text/plain": [
       "                business_id                name  rating  review_count  \\\n",
       "342  yYyljEUFGkezQXpzRlfqQA  West Edmonton Mall     4.0           223   \n",
       "\n",
       "                                              category      city state  \\\n",
       "342  [{'alias': 'shoppingcenters', 'title': 'Shoppi...  Edmonton    AB   \n",
       "\n",
       "    zip_code  \n",
       "342  T5T 4J2  "
      ]
     },
     "execution_count": 28,
     "metadata": {},
     "output_type": "execute_result"
    }
   ],
   "source": [
    "#Checks for zip_codes that does not follow the U.S zip code schema\n",
    "ziptest = bizDataCsv[bizDataCsv['zip_code'].str.len() != 5]\n",
    "ziptest"
   ]
  },
  {
   "cell_type": "markdown",
   "id": "fad2021e-31c7-46f5-ac54-3bdd61487c1a",
   "metadata": {},
   "source": [
    "### Quality Issue #2: Out-of-range `zip_code` value that does not follow the U.S zip code schema\n",
    "\n",
    "The row with an index of `342` is for a business located in Canada. I checked for any `zip_code` values that did not adhere to the schema of 5 digit `zip_code` formats in the United States. This is the only entry that is located in Canada. For consistency, I will remove this row so that the dataframe will only consist of businesses in the United States."
   ]
  },
  {
   "cell_type": "code",
   "execution_count": 29,
   "id": "eb39650a-5ed2-47d9-b0f0-5f897e3d94fb",
   "metadata": {},
   "outputs": [
    {
     "data": {
      "text/html": [
       "<div>\n",
       "<style scoped>\n",
       "    .dataframe tbody tr th:only-of-type {\n",
       "        vertical-align: middle;\n",
       "    }\n",
       "\n",
       "    .dataframe tbody tr th {\n",
       "        vertical-align: top;\n",
       "    }\n",
       "\n",
       "    .dataframe thead th {\n",
       "        text-align: right;\n",
       "    }\n",
       "</style>\n",
       "<table border=\"1\" class=\"dataframe\">\n",
       "  <thead>\n",
       "    <tr style=\"text-align: right;\">\n",
       "      <th></th>\n",
       "      <th>business_id</th>\n",
       "      <th>name</th>\n",
       "      <th>rating</th>\n",
       "      <th>review_count</th>\n",
       "      <th>category</th>\n",
       "      <th>city</th>\n",
       "      <th>state</th>\n",
       "      <th>zip_code</th>\n",
       "    </tr>\n",
       "  </thead>\n",
       "  <tbody>\n",
       "  </tbody>\n",
       "</table>\n",
       "</div>"
      ],
      "text/plain": [
       "Empty DataFrame\n",
       "Columns: [business_id, name, rating, review_count, category, city, state, zip_code]\n",
       "Index: []"
      ]
     },
     "execution_count": 29,
     "metadata": {},
     "output_type": "execute_result"
    }
   ],
   "source": [
    "#Checks for any business_ids that aren't 22 characters.\n",
    "invalid_len = bizDataCsv[bizDataCsv['business_id'].str.len() != 22]\n",
    "invalid_len"
   ]
  },
  {
   "cell_type": "markdown",
   "id": "1b544e91-8c68-417a-8f2b-2d2b316e675a",
   "metadata": {},
   "source": [
    "The Yelp developer portal states that `business_id` values should be 22 characters. All of the `business_id` values in the `bizDataCsv` dataframe are 22 characters long."
   ]
  },
  {
   "cell_type": "markdown",
   "id": "9dd2c4e9-8aa5-4716-b6b0-d1016f69285b",
   "metadata": {},
   "source": [
    "Next I will check if the first letter of every word in the `city` column is capitalized."
   ]
  },
  {
   "cell_type": "code",
   "execution_count": 30,
   "id": "fe8af1b3-870c-4993-aaf4-22e6c5e13201",
   "metadata": {
    "scrolled": true
   },
   "outputs": [
    {
     "data": {
      "text/html": [
       "<div>\n",
       "<style scoped>\n",
       "    .dataframe tbody tr th:only-of-type {\n",
       "        vertical-align: middle;\n",
       "    }\n",
       "\n",
       "    .dataframe tbody tr th {\n",
       "        vertical-align: top;\n",
       "    }\n",
       "\n",
       "    .dataframe thead th {\n",
       "        text-align: right;\n",
       "    }\n",
       "</style>\n",
       "<table border=\"1\" class=\"dataframe\">\n",
       "  <thead>\n",
       "    <tr style=\"text-align: right;\">\n",
       "      <th></th>\n",
       "      <th>business_id</th>\n",
       "      <th>name</th>\n",
       "      <th>rating</th>\n",
       "      <th>review_count</th>\n",
       "      <th>category</th>\n",
       "      <th>city</th>\n",
       "      <th>state</th>\n",
       "      <th>zip_code</th>\n",
       "    </tr>\n",
       "  </thead>\n",
       "  <tbody>\n",
       "    <tr>\n",
       "      <th>64</th>\n",
       "      <td>iqJ3t9iq0fsWaYL93s8Vmw</td>\n",
       "      <td>King of Prussia</td>\n",
       "      <td>4.0</td>\n",
       "      <td>519</td>\n",
       "      <td>[{'alias': 'shoppingcenters', 'title': 'Shoppi...</td>\n",
       "      <td>King of Prussia</td>\n",
       "      <td>PA</td>\n",
       "      <td>19406</td>\n",
       "    </tr>\n",
       "    <tr>\n",
       "      <th>68</th>\n",
       "      <td>-OKB11ypR4C8wWlonBFIGw</td>\n",
       "      <td>Atlantis Casino Resort Spa</td>\n",
       "      <td>3.5</td>\n",
       "      <td>1421</td>\n",
       "      <td>[{'alias': 'casinos', 'title': 'Casinos'}, {'a...</td>\n",
       "      <td>RENO</td>\n",
       "      <td>NV</td>\n",
       "      <td>89502</td>\n",
       "    </tr>\n",
       "  </tbody>\n",
       "</table>\n",
       "</div>"
      ],
      "text/plain": [
       "               business_id                        name  rating  review_count  \\\n",
       "64  iqJ3t9iq0fsWaYL93s8Vmw             King of Prussia     4.0           519   \n",
       "68  -OKB11ypR4C8wWlonBFIGw  Atlantis Casino Resort Spa     3.5          1421   \n",
       "\n",
       "                                             category             city state  \\\n",
       "64  [{'alias': 'shoppingcenters', 'title': 'Shoppi...  King of Prussia    PA   \n",
       "68  [{'alias': 'casinos', 'title': 'Casinos'}, {'a...             RENO    NV   \n",
       "\n",
       "   zip_code  \n",
       "64    19406  \n",
       "68    89502  "
      ]
     },
     "execution_count": 30,
     "metadata": {},
     "output_type": "execute_result"
    }
   ],
   "source": [
    "cityCap = bizDataCsv.query('not city.str.istitle()')\n",
    "cityCap"
   ]
  },
  {
   "cell_type": "markdown",
   "id": "084e91d3-5c7f-41ae-a501-716baa6cd93d",
   "metadata": {},
   "source": [
    "Any short preposition words such as \"of\" are not expected to be capitalized, so row `64` is an exception to this schema.\n",
    "\n",
    "Row `68` has a `city` value that is all capitalized."
   ]
  },
  {
   "cell_type": "code",
   "execution_count": 31,
   "id": "4053cdfb-abd6-412c-9201-3cdda562e73c",
   "metadata": {
    "scrolled": true
   },
   "outputs": [
    {
     "data": {
      "text/html": [
       "<div>\n",
       "<style scoped>\n",
       "    .dataframe tbody tr th:only-of-type {\n",
       "        vertical-align: middle;\n",
       "    }\n",
       "\n",
       "    .dataframe tbody tr th {\n",
       "        vertical-align: top;\n",
       "    }\n",
       "\n",
       "    .dataframe thead th {\n",
       "        text-align: right;\n",
       "    }\n",
       "</style>\n",
       "<table border=\"1\" class=\"dataframe\">\n",
       "  <thead>\n",
       "    <tr style=\"text-align: right;\">\n",
       "      <th></th>\n",
       "      <th>business_id</th>\n",
       "      <th>name</th>\n",
       "      <th>rating</th>\n",
       "      <th>review_count</th>\n",
       "      <th>category</th>\n",
       "      <th>city</th>\n",
       "      <th>state</th>\n",
       "      <th>zip_code</th>\n",
       "    </tr>\n",
       "  </thead>\n",
       "  <tbody>\n",
       "    <tr>\n",
       "      <th>11</th>\n",
       "      <td>h0wHeh0hTt6Us4W-1SHQOw</td>\n",
       "      <td>Reno-Tahoe International Airport</td>\n",
       "      <td>4.0</td>\n",
       "      <td>627</td>\n",
       "      <td>[{'alias': 'airports', 'title': 'Airports'}]</td>\n",
       "      <td>Reno</td>\n",
       "      <td>NV</td>\n",
       "      <td>89502</td>\n",
       "    </tr>\n",
       "    <tr>\n",
       "      <th>13</th>\n",
       "      <td>wz8ZPfySQczcPgSyd33-HQ</td>\n",
       "      <td>Grand Sierra Resort and Casino</td>\n",
       "      <td>3.0</td>\n",
       "      <td>3934</td>\n",
       "      <td>[{'alias': 'hotels', 'title': 'Hotels'}, {'ali...</td>\n",
       "      <td>Reno</td>\n",
       "      <td>NV</td>\n",
       "      <td>89595</td>\n",
       "    </tr>\n",
       "    <tr>\n",
       "      <th>25</th>\n",
       "      <td>PY9GRfzr4nTZeINf346QOw</td>\n",
       "      <td>Peppermill Resort Spa Casino</td>\n",
       "      <td>4.0</td>\n",
       "      <td>2771</td>\n",
       "      <td>[{'alias': 'casinos', 'title': 'Casinos'}, {'a...</td>\n",
       "      <td>Reno</td>\n",
       "      <td>NV</td>\n",
       "      <td>89502</td>\n",
       "    </tr>\n",
       "    <tr>\n",
       "      <th>27</th>\n",
       "      <td>mcr1lAEdvGLMJhuPwI3I2A</td>\n",
       "      <td>101 Taiwanese Cuisine</td>\n",
       "      <td>4.0</td>\n",
       "      <td>1353</td>\n",
       "      <td>[{'alias': 'chinese', 'title': 'Chinese'}, {'a...</td>\n",
       "      <td>Reno</td>\n",
       "      <td>NV</td>\n",
       "      <td>89503</td>\n",
       "    </tr>\n",
       "    <tr>\n",
       "      <th>29</th>\n",
       "      <td>ld_H5-FpZOWm_tkzwkPYQQ</td>\n",
       "      <td>Grande Exposition Hall</td>\n",
       "      <td>3.0</td>\n",
       "      <td>1752</td>\n",
       "      <td>[{'alias': 'hotels', 'title': 'Hotels'}, {'ali...</td>\n",
       "      <td>Reno</td>\n",
       "      <td>NV</td>\n",
       "      <td>89501</td>\n",
       "    </tr>\n",
       "  </tbody>\n",
       "</table>\n",
       "</div>"
      ],
      "text/plain": [
       "               business_id                              name  rating  \\\n",
       "11  h0wHeh0hTt6Us4W-1SHQOw  Reno-Tahoe International Airport     4.0   \n",
       "13  wz8ZPfySQczcPgSyd33-HQ    Grand Sierra Resort and Casino     3.0   \n",
       "25  PY9GRfzr4nTZeINf346QOw      Peppermill Resort Spa Casino     4.0   \n",
       "27  mcr1lAEdvGLMJhuPwI3I2A             101 Taiwanese Cuisine     4.0   \n",
       "29  ld_H5-FpZOWm_tkzwkPYQQ            Grande Exposition Hall     3.0   \n",
       "\n",
       "    review_count                                           category  city  \\\n",
       "11           627       [{'alias': 'airports', 'title': 'Airports'}]  Reno   \n",
       "13          3934  [{'alias': 'hotels', 'title': 'Hotels'}, {'ali...  Reno   \n",
       "25          2771  [{'alias': 'casinos', 'title': 'Casinos'}, {'a...  Reno   \n",
       "27          1353  [{'alias': 'chinese', 'title': 'Chinese'}, {'a...  Reno   \n",
       "29          1752  [{'alias': 'hotels', 'title': 'Hotels'}, {'ali...  Reno   \n",
       "\n",
       "   state zip_code  \n",
       "11    NV    89502  \n",
       "13    NV    89595  \n",
       "25    NV    89502  \n",
       "27    NV    89503  \n",
       "29    NV    89501  "
      ]
     },
     "execution_count": 31,
     "metadata": {},
     "output_type": "execute_result"
    }
   ],
   "source": [
    "#Queries for other businesses in Reno\n",
    "reno = bizDataCsv.query('city == \"Reno\"')\n",
    "reno.head()"
   ]
  },
  {
   "cell_type": "markdown",
   "id": "195a17f4-0682-4077-b4e2-c22800f305c1",
   "metadata": {},
   "source": [
    "### Quality Issue #3: `city` value in row `68` does not follow schema\n",
    "We can see that row `68` does not follow the format where only the first letter of each word in `city` is capitalized. When I queried for other businesses in \"Reno\", I discovered that there are multiple businesses that have their `city` value formatted correctly as \"Reno\" and not \"RENO\".\n",
    "\n",
    "To address this issue, I will change the `city` value of row `68` from \"RENO\" to \"Reno\"."
   ]
  },
  {
   "cell_type": "code",
   "execution_count": 32,
   "id": "139b5be9-cebd-49b8-97ad-798e46097619",
   "metadata": {},
   "outputs": [
    {
     "data": {
      "text/plain": [
       "0           [{'alias': 'airports', 'title': 'Airports'}]\n",
       "1      [{'alias': 'coffee', 'title': 'Coffee & Tea'},...\n",
       "2           [{'alias': 'airports', 'title': 'Airports'}]\n",
       "3           [{'alias': 'airports', 'title': 'Airports'}]\n",
       "4           [{'alias': 'airports', 'title': 'Airports'}]\n",
       "                             ...                        \n",
       "595       [{'alias': 'breweries', 'title': 'Breweries'}]\n",
       "596    [{'alias': 'hotels', 'title': 'Hotels'}, {'ali...\n",
       "597    [{'alias': 'vietnamese', 'title': 'Vietnamese'...\n",
       "598    [{'alias': 'sportsbars', 'title': 'Sports Bars...\n",
       "599    [{'alias': 'tradamerican', 'title': 'American'...\n",
       "Name: category, Length: 600, dtype: object"
      ]
     },
     "execution_count": 32,
     "metadata": {},
     "output_type": "execute_result"
    }
   ],
   "source": [
    "#Displays the values for the category column in bizDataCsv dataframe\n",
    "bizDataCsv['category']"
   ]
  },
  {
   "cell_type": "markdown",
   "id": "4761b985-60f2-4077-8ec0-49ff424fd2f1",
   "metadata": {},
   "source": [
    "### Tidiness Issue #2: `category` column contains multiple redundant values \n",
    "Each row in the `category` column currently contains a string that is written in the format of a dictionary despite its data type not being a dictionary. The word after `alias` is written in lowercase letters and appears to be more vague compared to the word after `title`. To make this column neat, I will keep the string after `title` and store that as the value of each row."
   ]
  },
  {
   "cell_type": "markdown",
   "id": "c81464d4-1412-4e48-9253-1365607b0d88",
   "metadata": {},
   "source": [
    "## Clean Data"
   ]
  },
  {
   "cell_type": "markdown",
   "id": "7035dc32-7ded-46c0-aeb9-695ac276cff1",
   "metadata": {},
   "source": [
    "### cleanCheck Dataframe Issues to Address\n",
    "- **Tidiness Issue**: Multiple variables are stored in 1 column"
   ]
  },
  {
   "cell_type": "code",
   "execution_count": 33,
   "id": "d0c3aa2e-c3a9-4bce-adb5-cf20daac7447",
   "metadata": {},
   "outputs": [],
   "source": [
    "#Copy of the sortedCheck dataframe\n",
    "cleanCheck = sortedCheck.copy()"
   ]
  },
  {
   "cell_type": "code",
   "execution_count": 34,
   "id": "28bfe006-4531-4132-bcff-308e3b4c41c6",
   "metadata": {},
   "outputs": [
    {
     "data": {
      "text/html": [
       "<div>\n",
       "<style scoped>\n",
       "    .dataframe tbody tr th:only-of-type {\n",
       "        vertical-align: middle;\n",
       "    }\n",
       "\n",
       "    .dataframe tbody tr th {\n",
       "        vertical-align: top;\n",
       "    }\n",
       "\n",
       "    .dataframe thead th {\n",
       "        text-align: right;\n",
       "    }\n",
       "</style>\n",
       "<table border=\"1\" class=\"dataframe\">\n",
       "  <thead>\n",
       "    <tr style=\"text-align: right;\">\n",
       "      <th></th>\n",
       "      <th>business_id</th>\n",
       "      <th>date</th>\n",
       "    </tr>\n",
       "  </thead>\n",
       "  <tbody>\n",
       "    <tr>\n",
       "      <th>0</th>\n",
       "      <td>-QI8Qi8XWH3D8y8ethnajA</td>\n",
       "      <td>2010-01-17 16:30:46, 2010-01-18 20:17:55, 2010...</td>\n",
       "    </tr>\n",
       "    <tr>\n",
       "      <th>1</th>\n",
       "      <td>FEXhWNCMkv22qG04E83Qjg</td>\n",
       "      <td>2010-01-16 07:39:02, 2010-01-17 14:04:18, 2010...</td>\n",
       "    </tr>\n",
       "  </tbody>\n",
       "</table>\n",
       "</div>"
      ],
      "text/plain": [
       "              business_id                                               date\n",
       "0  -QI8Qi8XWH3D8y8ethnajA  2010-01-17 16:30:46, 2010-01-18 20:17:55, 2010...\n",
       "1  FEXhWNCMkv22qG04E83Qjg  2010-01-16 07:39:02, 2010-01-17 14:04:18, 2010..."
      ]
     },
     "execution_count": 34,
     "metadata": {},
     "output_type": "execute_result"
    }
   ],
   "source": [
    "#Loads in the first 2 rows of the dataframe\n",
    "cleanCheck.head(2)"
   ]
  },
  {
   "cell_type": "markdown",
   "id": "421f65ea-357c-4b35-9ec7-7dfed427809a",
   "metadata": {},
   "source": [
    "### **Tidiness Issue**: Multiple variables are stored in 1 column\n",
    "I will count the amount of check-ins for each `business_id` to split the number of check-ins and the check-in dates into 2 columns."
   ]
  },
  {
   "cell_type": "code",
   "execution_count": 35,
   "id": "fa603530-3346-47e7-8a70-050d497d9361",
   "metadata": {},
   "outputs": [],
   "source": [
    "#Counts the length of the values in the date column separated by a comma\n",
    "cleanCheck['checkin_count'] = cleanCheck['date'].apply(lambda x: len(x.split(',')))"
   ]
  },
  {
   "cell_type": "code",
   "execution_count": 36,
   "id": "e0a4a512-423b-45c3-93e2-a8692acacc2b",
   "metadata": {},
   "outputs": [
    {
     "data": {
      "text/html": [
       "<div>\n",
       "<style scoped>\n",
       "    .dataframe tbody tr th:only-of-type {\n",
       "        vertical-align: middle;\n",
       "    }\n",
       "\n",
       "    .dataframe tbody tr th {\n",
       "        vertical-align: top;\n",
       "    }\n",
       "\n",
       "    .dataframe thead th {\n",
       "        text-align: right;\n",
       "    }\n",
       "</style>\n",
       "<table border=\"1\" class=\"dataframe\">\n",
       "  <thead>\n",
       "    <tr style=\"text-align: right;\">\n",
       "      <th></th>\n",
       "      <th>business_id</th>\n",
       "      <th>date</th>\n",
       "      <th>checkin_count</th>\n",
       "    </tr>\n",
       "  </thead>\n",
       "  <tbody>\n",
       "    <tr>\n",
       "      <th>0</th>\n",
       "      <td>-QI8Qi8XWH3D8y8ethnajA</td>\n",
       "      <td>2010-01-17 16:30:46, 2010-01-18 20:17:55, 2010...</td>\n",
       "      <td>52144</td>\n",
       "    </tr>\n",
       "    <tr>\n",
       "      <th>1</th>\n",
       "      <td>FEXhWNCMkv22qG04E83Qjg</td>\n",
       "      <td>2010-01-16 07:39:02, 2010-01-17 14:04:18, 2010...</td>\n",
       "      <td>40109</td>\n",
       "    </tr>\n",
       "    <tr>\n",
       "      <th>2</th>\n",
       "      <td>Eb1XmmLWyt_way5NNZ7-Pw</td>\n",
       "      <td>2010-01-21 19:43:12, 2010-02-03 10:17:21, 2010...</td>\n",
       "      <td>37562</td>\n",
       "    </tr>\n",
       "    <tr>\n",
       "      <th>3</th>\n",
       "      <td>c_4c5rJECZSfNgFj7frwHQ</td>\n",
       "      <td>2010-02-06 18:03:00, 2010-02-08 00:06:52, 2010...</td>\n",
       "      <td>37518</td>\n",
       "    </tr>\n",
       "    <tr>\n",
       "      <th>4</th>\n",
       "      <td>4i4kmYm9wgSNyF1b6gKphg</td>\n",
       "      <td>2010-01-21 19:31:34, 2010-01-26 22:12:24, 2010...</td>\n",
       "      <td>31168</td>\n",
       "    </tr>\n",
       "  </tbody>\n",
       "</table>\n",
       "</div>"
      ],
      "text/plain": [
       "              business_id                                               date  \\\n",
       "0  -QI8Qi8XWH3D8y8ethnajA  2010-01-17 16:30:46, 2010-01-18 20:17:55, 2010...   \n",
       "1  FEXhWNCMkv22qG04E83Qjg  2010-01-16 07:39:02, 2010-01-17 14:04:18, 2010...   \n",
       "2  Eb1XmmLWyt_way5NNZ7-Pw  2010-01-21 19:43:12, 2010-02-03 10:17:21, 2010...   \n",
       "3  c_4c5rJECZSfNgFj7frwHQ  2010-02-06 18:03:00, 2010-02-08 00:06:52, 2010...   \n",
       "4  4i4kmYm9wgSNyF1b6gKphg  2010-01-21 19:31:34, 2010-01-26 22:12:24, 2010...   \n",
       "\n",
       "   checkin_count  \n",
       "0          52144  \n",
       "1          40109  \n",
       "2          37562  \n",
       "3          37518  \n",
       "4          31168  "
      ]
     },
     "execution_count": 36,
     "metadata": {},
     "output_type": "execute_result"
    }
   ],
   "source": [
    "#Confirming that the code above worked\n",
    "cleanCheck.head()"
   ]
  },
  {
   "cell_type": "code",
   "execution_count": 37,
   "id": "33b6bdaa-cd2c-491c-a918-953345a31b0b",
   "metadata": {},
   "outputs": [
    {
     "data": {
      "text/html": [
       "<div>\n",
       "<style scoped>\n",
       "    .dataframe tbody tr th:only-of-type {\n",
       "        vertical-align: middle;\n",
       "    }\n",
       "\n",
       "    .dataframe tbody tr th {\n",
       "        vertical-align: top;\n",
       "    }\n",
       "\n",
       "    .dataframe thead th {\n",
       "        text-align: right;\n",
       "    }\n",
       "</style>\n",
       "<table border=\"1\" class=\"dataframe\">\n",
       "  <thead>\n",
       "    <tr style=\"text-align: right;\">\n",
       "      <th></th>\n",
       "      <th>business_id</th>\n",
       "      <th>checkin_count</th>\n",
       "    </tr>\n",
       "  </thead>\n",
       "  <tbody>\n",
       "    <tr>\n",
       "      <th>0</th>\n",
       "      <td>-QI8Qi8XWH3D8y8ethnajA</td>\n",
       "      <td>52144</td>\n",
       "    </tr>\n",
       "    <tr>\n",
       "      <th>1</th>\n",
       "      <td>FEXhWNCMkv22qG04E83Qjg</td>\n",
       "      <td>40109</td>\n",
       "    </tr>\n",
       "    <tr>\n",
       "      <th>2</th>\n",
       "      <td>Eb1XmmLWyt_way5NNZ7-Pw</td>\n",
       "      <td>37562</td>\n",
       "    </tr>\n",
       "    <tr>\n",
       "      <th>3</th>\n",
       "      <td>c_4c5rJECZSfNgFj7frwHQ</td>\n",
       "      <td>37518</td>\n",
       "    </tr>\n",
       "    <tr>\n",
       "      <th>4</th>\n",
       "      <td>4i4kmYm9wgSNyF1b6gKphg</td>\n",
       "      <td>31168</td>\n",
       "    </tr>\n",
       "  </tbody>\n",
       "</table>\n",
       "</div>"
      ],
      "text/plain": [
       "              business_id  checkin_count\n",
       "0  -QI8Qi8XWH3D8y8ethnajA          52144\n",
       "1  FEXhWNCMkv22qG04E83Qjg          40109\n",
       "2  Eb1XmmLWyt_way5NNZ7-Pw          37562\n",
       "3  c_4c5rJECZSfNgFj7frwHQ          37518\n",
       "4  4i4kmYm9wgSNyF1b6gKphg          31168"
      ]
     },
     "execution_count": 37,
     "metadata": {},
     "output_type": "execute_result"
    }
   ],
   "source": [
    "#Dropping the date column because it's no longer needed\n",
    "cleanCheck.drop('date', axis=1, inplace=True)\n",
    "#Confirm the drop was successful\n",
    "cleanCheck.head()"
   ]
  },
  {
   "cell_type": "markdown",
   "id": "541a01a1-330f-45cb-a037-05fa731ed878",
   "metadata": {},
   "source": [
    "The code above validates that my cleaning for this dataframe was successful."
   ]
  },
  {
   "cell_type": "markdown",
   "id": "95b6ec96-6a97-4217-aa3d-70cc7b7a6cd0",
   "metadata": {},
   "source": [
    "### bizDataCsv Dataframe Issues to Address:\n",
    "- **Quality Issue**: Erroneous data type for `zip code` column\n",
    "- **Quality Issue**: Out-of-range `zip_code` value that does not follow the U.S zip code schema\n",
    "- **Quality Issue**: `city` value in row `68` does not follow schema\n",
    "- **Tidiness Issue**: `category` column contains multiple redundant values"
   ]
  },
  {
   "cell_type": "code",
   "execution_count": 38,
   "id": "c2962d98-68fa-42d1-8685-26a7ddcdebc9",
   "metadata": {},
   "outputs": [],
   "source": [
    "#Copy of the bizDataCsv dataframe\n",
    "cleanBizData = bizDataCsv.copy()"
   ]
  },
  {
   "cell_type": "code",
   "execution_count": 39,
   "id": "4f0315ae-1103-4307-afd0-ff5b225db35a",
   "metadata": {},
   "outputs": [
    {
     "data": {
      "text/html": [
       "<div>\n",
       "<style scoped>\n",
       "    .dataframe tbody tr th:only-of-type {\n",
       "        vertical-align: middle;\n",
       "    }\n",
       "\n",
       "    .dataframe tbody tr th {\n",
       "        vertical-align: top;\n",
       "    }\n",
       "\n",
       "    .dataframe thead th {\n",
       "        text-align: right;\n",
       "    }\n",
       "</style>\n",
       "<table border=\"1\" class=\"dataframe\">\n",
       "  <thead>\n",
       "    <tr style=\"text-align: right;\">\n",
       "      <th></th>\n",
       "      <th>business_id</th>\n",
       "      <th>name</th>\n",
       "      <th>rating</th>\n",
       "      <th>review_count</th>\n",
       "      <th>category</th>\n",
       "      <th>city</th>\n",
       "      <th>state</th>\n",
       "      <th>zip_code</th>\n",
       "    </tr>\n",
       "  </thead>\n",
       "  <tbody>\n",
       "    <tr>\n",
       "      <th>0</th>\n",
       "      <td>-QI8Qi8XWH3D8y8ethnajA</td>\n",
       "      <td>Philadelphia International Airport - PHL</td>\n",
       "      <td>2.5</td>\n",
       "      <td>2338</td>\n",
       "      <td>[{'alias': 'airports', 'title': 'Airports'}]</td>\n",
       "      <td>Philadelphia</td>\n",
       "      <td>PA</td>\n",
       "      <td>19153</td>\n",
       "    </tr>\n",
       "    <tr>\n",
       "      <th>1</th>\n",
       "      <td>FEXhWNCMkv22qG04E83Qjg</td>\n",
       "      <td>Cafe Du Monde</td>\n",
       "      <td>4.0</td>\n",
       "      <td>3126</td>\n",
       "      <td>[{'alias': 'coffee', 'title': 'Coffee &amp; Tea'},...</td>\n",
       "      <td>New Orleans</td>\n",
       "      <td>LA</td>\n",
       "      <td>70116</td>\n",
       "    </tr>\n",
       "  </tbody>\n",
       "</table>\n",
       "</div>"
      ],
      "text/plain": [
       "              business_id                                      name  rating  \\\n",
       "0  -QI8Qi8XWH3D8y8ethnajA  Philadelphia International Airport - PHL     2.5   \n",
       "1  FEXhWNCMkv22qG04E83Qjg                             Cafe Du Monde     4.0   \n",
       "\n",
       "   review_count                                           category  \\\n",
       "0          2338       [{'alias': 'airports', 'title': 'Airports'}]   \n",
       "1          3126  [{'alias': 'coffee', 'title': 'Coffee & Tea'},...   \n",
       "\n",
       "           city state zip_code  \n",
       "0  Philadelphia    PA    19153  \n",
       "1   New Orleans    LA    70116  "
      ]
     },
     "execution_count": 39,
     "metadata": {},
     "output_type": "execute_result"
    }
   ],
   "source": [
    "#Loads in the dataframe\n",
    "cleanBizData.head(2)"
   ]
  },
  {
   "cell_type": "markdown",
   "id": "ab8442b0-63e1-4689-8b04-60983649f1c5",
   "metadata": {},
   "source": [
    "*Before* I change the data type of the `zip_code` column, I will need to address the out-of-range `zip_code` value first. The Canadian `zip_code` consists of letters and digits, so I can't change the `zip_code` data type to an integer until I drop row `342` from the dataframe."
   ]
  },
  {
   "cell_type": "markdown",
   "id": "9576d84b-f6a3-48e8-ac98-84f968f5ee31",
   "metadata": {},
   "source": [
    "### **Quality Issue**: Out-of-range `zip_code` value that does not follow the U.S zip code schema\n",
    "\n",
    "Since this value is for a business located outside of the United States, I will drop this row."
   ]
  },
  {
   "cell_type": "code",
   "execution_count": 40,
   "id": "e10c68f4-2ff7-4bd1-99e1-81d97fd67eb0",
   "metadata": {},
   "outputs": [
    {
     "data": {
      "text/html": [
       "<div>\n",
       "<style scoped>\n",
       "    .dataframe tbody tr th:only-of-type {\n",
       "        vertical-align: middle;\n",
       "    }\n",
       "\n",
       "    .dataframe tbody tr th {\n",
       "        vertical-align: top;\n",
       "    }\n",
       "\n",
       "    .dataframe thead th {\n",
       "        text-align: right;\n",
       "    }\n",
       "</style>\n",
       "<table border=\"1\" class=\"dataframe\">\n",
       "  <thead>\n",
       "    <tr style=\"text-align: right;\">\n",
       "      <th></th>\n",
       "      <th>business_id</th>\n",
       "      <th>name</th>\n",
       "      <th>rating</th>\n",
       "      <th>review_count</th>\n",
       "      <th>category</th>\n",
       "      <th>city</th>\n",
       "      <th>state</th>\n",
       "      <th>zip_code</th>\n",
       "    </tr>\n",
       "  </thead>\n",
       "  <tbody>\n",
       "    <tr>\n",
       "      <th>342</th>\n",
       "      <td>yYyljEUFGkezQXpzRlfqQA</td>\n",
       "      <td>West Edmonton Mall</td>\n",
       "      <td>4.0</td>\n",
       "      <td>223</td>\n",
       "      <td>[{'alias': 'shoppingcenters', 'title': 'Shoppi...</td>\n",
       "      <td>Edmonton</td>\n",
       "      <td>AB</td>\n",
       "      <td>T5T 4J2</td>\n",
       "    </tr>\n",
       "  </tbody>\n",
       "</table>\n",
       "</div>"
      ],
      "text/plain": [
       "                business_id                name  rating  review_count  \\\n",
       "342  yYyljEUFGkezQXpzRlfqQA  West Edmonton Mall     4.0           223   \n",
       "\n",
       "                                              category      city state  \\\n",
       "342  [{'alias': 'shoppingcenters', 'title': 'Shoppi...  Edmonton    AB   \n",
       "\n",
       "    zip_code  \n",
       "342  T5T 4J2  "
      ]
     },
     "execution_count": 40,
     "metadata": {},
     "output_type": "execute_result"
    }
   ],
   "source": [
    "#Checks for zip_codes that does not follow the U.S zip code schema\n",
    "ziptest = cleanBizData[cleanBizData['zip_code'].str.len() != 5]\n",
    "ziptest"
   ]
  },
  {
   "cell_type": "code",
   "execution_count": 41,
   "id": "e92793ec-41ea-403b-9057-8a4b5e16c082",
   "metadata": {},
   "outputs": [
    {
     "data": {
      "text/html": [
       "<div>\n",
       "<style scoped>\n",
       "    .dataframe tbody tr th:only-of-type {\n",
       "        vertical-align: middle;\n",
       "    }\n",
       "\n",
       "    .dataframe tbody tr th {\n",
       "        vertical-align: top;\n",
       "    }\n",
       "\n",
       "    .dataframe thead th {\n",
       "        text-align: right;\n",
       "    }\n",
       "</style>\n",
       "<table border=\"1\" class=\"dataframe\">\n",
       "  <thead>\n",
       "    <tr style=\"text-align: right;\">\n",
       "      <th></th>\n",
       "      <th>business_id</th>\n",
       "      <th>name</th>\n",
       "      <th>rating</th>\n",
       "      <th>review_count</th>\n",
       "      <th>category</th>\n",
       "      <th>city</th>\n",
       "      <th>state</th>\n",
       "      <th>zip_code</th>\n",
       "    </tr>\n",
       "  </thead>\n",
       "  <tbody>\n",
       "  </tbody>\n",
       "</table>\n",
       "</div>"
      ],
      "text/plain": [
       "Empty DataFrame\n",
       "Columns: [business_id, name, rating, review_count, category, city, state, zip_code]\n",
       "Index: []"
      ]
     },
     "execution_count": 41,
     "metadata": {},
     "output_type": "execute_result"
    }
   ],
   "source": [
    "#Drops the specific row for the Canadian business\n",
    "cleanBizData.drop(cleanBizData.index[342], inplace=True)\n",
    "#Checks again for any zip_codes that don't consist of 5 characters\n",
    "ziptest = cleanBizData[cleanBizData['zip_code'].str.len() != 5]\n",
    "ziptest"
   ]
  },
  {
   "cell_type": "markdown",
   "id": "00f73aa9-d734-4ad8-b15a-d9d8a72ce0a3",
   "metadata": {},
   "source": [
    "This method dropped row `342` successfully. To ensure consistency between both dataframes, I will drop the row with the same `business_id` in the `cleanCheck` dataframe as well."
   ]
  },
  {
   "cell_type": "code",
   "execution_count": 42,
   "id": "585d7819-5566-4e88-ba47-5cfbd721170b",
   "metadata": {},
   "outputs": [
    {
     "data": {
      "text/html": [
       "<div>\n",
       "<style scoped>\n",
       "    .dataframe tbody tr th:only-of-type {\n",
       "        vertical-align: middle;\n",
       "    }\n",
       "\n",
       "    .dataframe tbody tr th {\n",
       "        vertical-align: top;\n",
       "    }\n",
       "\n",
       "    .dataframe thead th {\n",
       "        text-align: right;\n",
       "    }\n",
       "</style>\n",
       "<table border=\"1\" class=\"dataframe\">\n",
       "  <thead>\n",
       "    <tr style=\"text-align: right;\">\n",
       "      <th></th>\n",
       "      <th>business_id</th>\n",
       "      <th>checkin_count</th>\n",
       "    </tr>\n",
       "  </thead>\n",
       "  <tbody>\n",
       "    <tr>\n",
       "      <th>342</th>\n",
       "      <td>yYyljEUFGkezQXpzRlfqQA</td>\n",
       "      <td>2499</td>\n",
       "    </tr>\n",
       "  </tbody>\n",
       "</table>\n",
       "</div>"
      ],
      "text/plain": [
       "                business_id  checkin_count\n",
       "342  yYyljEUFGkezQXpzRlfqQA           2499"
      ]
     },
     "execution_count": 42,
     "metadata": {},
     "output_type": "execute_result"
    }
   ],
   "source": [
    "cleanCheck.query('business_id == \"yYyljEUFGkezQXpzRlfqQA\"')"
   ]
  },
  {
   "cell_type": "code",
   "execution_count": 43,
   "id": "c6f6349f-8e21-49c6-9c4c-835ca9ae57db",
   "metadata": {},
   "outputs": [
    {
     "data": {
      "text/html": [
       "<div>\n",
       "<style scoped>\n",
       "    .dataframe tbody tr th:only-of-type {\n",
       "        vertical-align: middle;\n",
       "    }\n",
       "\n",
       "    .dataframe tbody tr th {\n",
       "        vertical-align: top;\n",
       "    }\n",
       "\n",
       "    .dataframe thead th {\n",
       "        text-align: right;\n",
       "    }\n",
       "</style>\n",
       "<table border=\"1\" class=\"dataframe\">\n",
       "  <thead>\n",
       "    <tr style=\"text-align: right;\">\n",
       "      <th></th>\n",
       "      <th>business_id</th>\n",
       "      <th>checkin_count</th>\n",
       "    </tr>\n",
       "  </thead>\n",
       "  <tbody>\n",
       "  </tbody>\n",
       "</table>\n",
       "</div>"
      ],
      "text/plain": [
       "Empty DataFrame\n",
       "Columns: [business_id, checkin_count]\n",
       "Index: []"
      ]
     },
     "execution_count": 43,
     "metadata": {},
     "output_type": "execute_result"
    }
   ],
   "source": [
    "#Drops the corresponding row in the cleanCheck dataframe\n",
    "cleanCheck.drop(cleanCheck.index[342], inplace=True)\n",
    "#Checks for the specific business_id to confirm the change was successful\n",
    "cleanCheck.query('business_id == \"yYyljEUFGkezQXpzRlfqQA\"')"
   ]
  },
  {
   "cell_type": "markdown",
   "id": "f9728abb-6063-425a-9609-abf2fe9cfaea",
   "metadata": {},
   "source": [
    "This method was successful. Now I can change the data type of the `zip_code` column."
   ]
  },
  {
   "cell_type": "markdown",
   "id": "aaaac39a-c6db-411a-b97a-3c42cc3fd509",
   "metadata": {},
   "source": [
    "### **Quality Issue**: Erroneous data type for `zip_code` column\n",
    "\n",
    "To address this, I will change the data type of `zip_code` from object to integer."
   ]
  },
  {
   "cell_type": "code",
   "execution_count": 44,
   "id": "ca939bdf-db4c-4263-bc0b-de589b949c4e",
   "metadata": {},
   "outputs": [
    {
     "name": "stdout",
     "output_type": "stream",
     "text": [
      "<class 'pandas.core.frame.DataFrame'>\n",
      "Index: 599 entries, 0 to 599\n",
      "Data columns (total 8 columns):\n",
      " #   Column        Non-Null Count  Dtype  \n",
      "---  ------        --------------  -----  \n",
      " 0   business_id   599 non-null    object \n",
      " 1   name          599 non-null    object \n",
      " 2   rating        599 non-null    float64\n",
      " 3   review_count  599 non-null    int64  \n",
      " 4   category      599 non-null    object \n",
      " 5   city          599 non-null    object \n",
      " 6   state         599 non-null    object \n",
      " 7   zip_code      599 non-null    int32  \n",
      "dtypes: float64(1), int32(1), int64(1), object(5)\n",
      "memory usage: 39.8+ KB\n"
     ]
    }
   ],
   "source": [
    "#Changes the data type of zip_code to an integer\n",
    "cleanBizData['zip_code'] = cleanBizData['zip_code'].astype('int')\n",
    "#Confirms the change was successful\n",
    "cleanBizData.info()"
   ]
  },
  {
   "cell_type": "markdown",
   "id": "76b0ba5e-27a9-48af-943c-676047d9258f",
   "metadata": {},
   "source": [
    "### **Quality Issue**: `city` value in row `68` does not follow schema\n",
    "\n",
    "Row `68` does not follow the format where only the first letter of each word in `city` is capitalized. I will address this by changing its `city` value to follow the expected format."
   ]
  },
  {
   "cell_type": "code",
   "execution_count": 45,
   "id": "d380fcfd-a869-447e-8c99-6559e401dc63",
   "metadata": {},
   "outputs": [
    {
     "data": {
      "text/html": [
       "<div>\n",
       "<style scoped>\n",
       "    .dataframe tbody tr th:only-of-type {\n",
       "        vertical-align: middle;\n",
       "    }\n",
       "\n",
       "    .dataframe tbody tr th {\n",
       "        vertical-align: top;\n",
       "    }\n",
       "\n",
       "    .dataframe thead th {\n",
       "        text-align: right;\n",
       "    }\n",
       "</style>\n",
       "<table border=\"1\" class=\"dataframe\">\n",
       "  <thead>\n",
       "    <tr style=\"text-align: right;\">\n",
       "      <th></th>\n",
       "      <th>business_id</th>\n",
       "      <th>name</th>\n",
       "      <th>rating</th>\n",
       "      <th>review_count</th>\n",
       "      <th>category</th>\n",
       "      <th>city</th>\n",
       "      <th>state</th>\n",
       "      <th>zip_code</th>\n",
       "    </tr>\n",
       "  </thead>\n",
       "  <tbody>\n",
       "    <tr>\n",
       "      <th>64</th>\n",
       "      <td>iqJ3t9iq0fsWaYL93s8Vmw</td>\n",
       "      <td>King of Prussia</td>\n",
       "      <td>4.0</td>\n",
       "      <td>519</td>\n",
       "      <td>[{'alias': 'shoppingcenters', 'title': 'Shoppi...</td>\n",
       "      <td>King of Prussia</td>\n",
       "      <td>PA</td>\n",
       "      <td>19406</td>\n",
       "    </tr>\n",
       "    <tr>\n",
       "      <th>68</th>\n",
       "      <td>-OKB11ypR4C8wWlonBFIGw</td>\n",
       "      <td>Atlantis Casino Resort Spa</td>\n",
       "      <td>3.5</td>\n",
       "      <td>1421</td>\n",
       "      <td>[{'alias': 'casinos', 'title': 'Casinos'}, {'a...</td>\n",
       "      <td>RENO</td>\n",
       "      <td>NV</td>\n",
       "      <td>89502</td>\n",
       "    </tr>\n",
       "  </tbody>\n",
       "</table>\n",
       "</div>"
      ],
      "text/plain": [
       "               business_id                        name  rating  review_count  \\\n",
       "64  iqJ3t9iq0fsWaYL93s8Vmw             King of Prussia     4.0           519   \n",
       "68  -OKB11ypR4C8wWlonBFIGw  Atlantis Casino Resort Spa     3.5          1421   \n",
       "\n",
       "                                             category             city state  \\\n",
       "64  [{'alias': 'shoppingcenters', 'title': 'Shoppi...  King of Prussia    PA   \n",
       "68  [{'alias': 'casinos', 'title': 'Casinos'}, {'a...             RENO    NV   \n",
       "\n",
       "    zip_code  \n",
       "64     19406  \n",
       "68     89502  "
      ]
     },
     "execution_count": 45,
     "metadata": {},
     "output_type": "execute_result"
    }
   ],
   "source": [
    "cityCap = cleanBizData.query('not city.str.istitle()')\n",
    "cityCap"
   ]
  },
  {
   "cell_type": "code",
   "execution_count": 46,
   "id": "0c24af8c-72c3-49d1-b7d1-83ecbf0d9f44",
   "metadata": {
    "scrolled": true
   },
   "outputs": [
    {
     "data": {
      "text/plain": [
       "business_id                                -OKB11ypR4C8wWlonBFIGw\n",
       "name                                   Atlantis Casino Resort Spa\n",
       "rating                                                        3.5\n",
       "review_count                                                 1421\n",
       "category        [{'alias': 'casinos', 'title': 'Casinos'}, {'a...\n",
       "city                                                         Reno\n",
       "state                                                          NV\n",
       "zip_code                                                    89502\n",
       "Name: 68, dtype: object"
      ]
     },
     "execution_count": 46,
     "metadata": {},
     "output_type": "execute_result"
    }
   ],
   "source": [
    "#Replaces the city value in row 68\n",
    "cleanBizData['city'] = cleanBizData['city'].replace('RENO', 'Reno')\n",
    "#Confirms the change was sucessful for the specified row\n",
    "cleanBizData.loc[68]"
   ]
  },
  {
   "cell_type": "markdown",
   "id": "305b4cd2-757a-48c8-b011-b82b5b2edf95",
   "metadata": {},
   "source": [
    "### **Tidiness Issue**: `category` column contains multiple redundant values\n",
    "\n",
    "To clean this column, I will remove the string before `title` and keep the string after `title` and store them as the value for each row.\n",
    "\n",
    "This is what the values for `category` currently looks like:"
   ]
  },
  {
   "cell_type": "code",
   "execution_count": 47,
   "id": "b5adacc5-f8c1-46aa-97cf-bc915fbc911b",
   "metadata": {},
   "outputs": [
    {
     "data": {
      "text/plain": [
       "0         [{'alias': 'airports', 'title': 'Airports'}]\n",
       "1    [{'alias': 'coffee', 'title': 'Coffee & Tea'},...\n",
       "2         [{'alias': 'airports', 'title': 'Airports'}]\n",
       "3         [{'alias': 'airports', 'title': 'Airports'}]\n",
       "4         [{'alias': 'airports', 'title': 'Airports'}]\n",
       "Name: category, dtype: object"
      ]
     },
     "execution_count": 47,
     "metadata": {},
     "output_type": "execute_result"
    }
   ],
   "source": [
    "cleanBizData['category'].head()"
   ]
  },
  {
   "cell_type": "code",
   "execution_count": 48,
   "id": "3a1596ad-dd76-490e-90ee-8b7738de580f",
   "metadata": {},
   "outputs": [
    {
     "data": {
      "text/plain": [
       "0                   Airports'}]\n",
       "1                     Donuts'}]\n",
       "2                   Airports'}]\n",
       "3                   Airports'}]\n",
       "4                   Airports'}]\n",
       "                 ...           \n",
       "595                Breweries'}]\n",
       "596    Venues & Event Spaces'}]\n",
       "597                     Thai'}]\n",
       "598                  Burgers'}]\n",
       "599                 Desserts'}]\n",
       "Name: category, Length: 599, dtype: object"
      ]
     },
     "execution_count": 48,
     "metadata": {},
     "output_type": "execute_result"
    }
   ],
   "source": [
    "#Removes the string before 'title'\n",
    "cleanBizData['category'] = [x.split(\"title': '\")[-1] for x in cleanBizData['category']]\n",
    "#Confirms the change was successful\n",
    "cleanBizData['category']"
   ]
  },
  {
   "cell_type": "code",
   "execution_count": 49,
   "id": "9bc13ce7-5e78-45bc-9488-ffad5db19d02",
   "metadata": {},
   "outputs": [
    {
     "data": {
      "text/plain": [
       "0                   Airports\n",
       "1                     Donuts\n",
       "2                   Airports\n",
       "3                   Airports\n",
       "4                   Airports\n",
       "               ...          \n",
       "595                Breweries\n",
       "596    Venues & Event Spaces\n",
       "597                     Thai\n",
       "598                  Burgers\n",
       "599                 Desserts\n",
       "Name: category, Length: 599, dtype: object"
      ]
     },
     "execution_count": 49,
     "metadata": {},
     "output_type": "execute_result"
    }
   ],
   "source": [
    "#Removes the string after `title`\n",
    "cleanBizData['category'] = [x.split(\"'}]\")[0] for x in cleanBizData['category']]\n",
    "#Confirms the change was successful\n",
    "cleanBizData['category']"
   ]
  },
  {
   "cell_type": "markdown",
   "id": "442ad9c3-a088-4c41-a50a-d20a6b0f1e6a",
   "metadata": {},
   "source": [
    "### **Combine datasets**"
   ]
  },
  {
   "cell_type": "code",
   "execution_count": 50,
   "id": "14c41808-b01b-4972-8f9a-a02f231e4266",
   "metadata": {
    "scrolled": true
   },
   "outputs": [
    {
     "data": {
      "text/html": [
       "<div>\n",
       "<style scoped>\n",
       "    .dataframe tbody tr th:only-of-type {\n",
       "        vertical-align: middle;\n",
       "    }\n",
       "\n",
       "    .dataframe tbody tr th {\n",
       "        vertical-align: top;\n",
       "    }\n",
       "\n",
       "    .dataframe thead th {\n",
       "        text-align: right;\n",
       "    }\n",
       "</style>\n",
       "<table border=\"1\" class=\"dataframe\">\n",
       "  <thead>\n",
       "    <tr style=\"text-align: right;\">\n",
       "      <th></th>\n",
       "      <th>business_id</th>\n",
       "      <th>checkin_count</th>\n",
       "      <th>name</th>\n",
       "      <th>rating</th>\n",
       "      <th>review_count</th>\n",
       "      <th>category</th>\n",
       "      <th>city</th>\n",
       "      <th>state</th>\n",
       "      <th>zip_code</th>\n",
       "    </tr>\n",
       "  </thead>\n",
       "  <tbody>\n",
       "    <tr>\n",
       "      <th>0</th>\n",
       "      <td>-QI8Qi8XWH3D8y8ethnajA</td>\n",
       "      <td>52144</td>\n",
       "      <td>Philadelphia International Airport - PHL</td>\n",
       "      <td>2.5</td>\n",
       "      <td>2338</td>\n",
       "      <td>Airports</td>\n",
       "      <td>Philadelphia</td>\n",
       "      <td>PA</td>\n",
       "      <td>19153</td>\n",
       "    </tr>\n",
       "    <tr>\n",
       "      <th>1</th>\n",
       "      <td>FEXhWNCMkv22qG04E83Qjg</td>\n",
       "      <td>40109</td>\n",
       "      <td>Cafe Du Monde</td>\n",
       "      <td>4.0</td>\n",
       "      <td>3126</td>\n",
       "      <td>Donuts</td>\n",
       "      <td>New Orleans</td>\n",
       "      <td>LA</td>\n",
       "      <td>70116</td>\n",
       "    </tr>\n",
       "    <tr>\n",
       "      <th>2</th>\n",
       "      <td>Eb1XmmLWyt_way5NNZ7-Pw</td>\n",
       "      <td>37562</td>\n",
       "      <td>Louis Armstrong New Orleans International Airp...</td>\n",
       "      <td>3.0</td>\n",
       "      <td>1969</td>\n",
       "      <td>Airports</td>\n",
       "      <td>Kenner</td>\n",
       "      <td>LA</td>\n",
       "      <td>70062</td>\n",
       "    </tr>\n",
       "    <tr>\n",
       "      <th>3</th>\n",
       "      <td>c_4c5rJECZSfNgFj7frwHQ</td>\n",
       "      <td>37518</td>\n",
       "      <td>Tampa International Airport</td>\n",
       "      <td>4.0</td>\n",
       "      <td>2033</td>\n",
       "      <td>Airports</td>\n",
       "      <td>Tampa</td>\n",
       "      <td>FL</td>\n",
       "      <td>33607</td>\n",
       "    </tr>\n",
       "    <tr>\n",
       "      <th>4</th>\n",
       "      <td>4i4kmYm9wgSNyF1b6gKphg</td>\n",
       "      <td>31168</td>\n",
       "      <td>Nashville International Airport - BNA</td>\n",
       "      <td>3.5</td>\n",
       "      <td>1140</td>\n",
       "      <td>Airports</td>\n",
       "      <td>Nashville</td>\n",
       "      <td>TN</td>\n",
       "      <td>37214</td>\n",
       "    </tr>\n",
       "  </tbody>\n",
       "</table>\n",
       "</div>"
      ],
      "text/plain": [
       "              business_id  checkin_count  \\\n",
       "0  -QI8Qi8XWH3D8y8ethnajA          52144   \n",
       "1  FEXhWNCMkv22qG04E83Qjg          40109   \n",
       "2  Eb1XmmLWyt_way5NNZ7-Pw          37562   \n",
       "3  c_4c5rJECZSfNgFj7frwHQ          37518   \n",
       "4  4i4kmYm9wgSNyF1b6gKphg          31168   \n",
       "\n",
       "                                                name  rating  review_count  \\\n",
       "0           Philadelphia International Airport - PHL     2.5          2338   \n",
       "1                                      Cafe Du Monde     4.0          3126   \n",
       "2  Louis Armstrong New Orleans International Airp...     3.0          1969   \n",
       "3                        Tampa International Airport     4.0          2033   \n",
       "4              Nashville International Airport - BNA     3.5          1140   \n",
       "\n",
       "   category          city state  zip_code  \n",
       "0  Airports  Philadelphia    PA     19153  \n",
       "1    Donuts   New Orleans    LA     70116  \n",
       "2  Airports        Kenner    LA     70062  \n",
       "3  Airports         Tampa    FL     33607  \n",
       "4  Airports     Nashville    TN     37214  "
      ]
     },
     "execution_count": 50,
     "metadata": {},
     "output_type": "execute_result"
    }
   ],
   "source": [
    "#Combining the dataframes\n",
    "data = cleanCheck.merge(cleanBizData, how='outer')\n",
    "#Loads the first couple rows of the combined dataframe\n",
    "data.head()"
   ]
  },
  {
   "cell_type": "code",
   "execution_count": 51,
   "id": "bdb0d474-24d5-4cee-bc65-70aae438a656",
   "metadata": {
    "scrolled": true
   },
   "outputs": [
    {
     "data": {
      "text/html": [
       "<div>\n",
       "<style scoped>\n",
       "    .dataframe tbody tr th:only-of-type {\n",
       "        vertical-align: middle;\n",
       "    }\n",
       "\n",
       "    .dataframe tbody tr th {\n",
       "        vertical-align: top;\n",
       "    }\n",
       "\n",
       "    .dataframe thead th {\n",
       "        text-align: right;\n",
       "    }\n",
       "</style>\n",
       "<table border=\"1\" class=\"dataframe\">\n",
       "  <thead>\n",
       "    <tr style=\"text-align: right;\">\n",
       "      <th></th>\n",
       "      <th>business_id</th>\n",
       "      <th>name</th>\n",
       "      <th>rating</th>\n",
       "      <th>review_count</th>\n",
       "      <th>checkin_count</th>\n",
       "      <th>category</th>\n",
       "      <th>city</th>\n",
       "      <th>state</th>\n",
       "      <th>zip_code</th>\n",
       "    </tr>\n",
       "  </thead>\n",
       "  <tbody>\n",
       "    <tr>\n",
       "      <th>0</th>\n",
       "      <td>-QI8Qi8XWH3D8y8ethnajA</td>\n",
       "      <td>Philadelphia International Airport - PHL</td>\n",
       "      <td>2.5</td>\n",
       "      <td>2338</td>\n",
       "      <td>52144</td>\n",
       "      <td>Airports</td>\n",
       "      <td>Philadelphia</td>\n",
       "      <td>PA</td>\n",
       "      <td>19153</td>\n",
       "    </tr>\n",
       "    <tr>\n",
       "      <th>1</th>\n",
       "      <td>FEXhWNCMkv22qG04E83Qjg</td>\n",
       "      <td>Cafe Du Monde</td>\n",
       "      <td>4.0</td>\n",
       "      <td>3126</td>\n",
       "      <td>40109</td>\n",
       "      <td>Donuts</td>\n",
       "      <td>New Orleans</td>\n",
       "      <td>LA</td>\n",
       "      <td>70116</td>\n",
       "    </tr>\n",
       "    <tr>\n",
       "      <th>2</th>\n",
       "      <td>Eb1XmmLWyt_way5NNZ7-Pw</td>\n",
       "      <td>Louis Armstrong New Orleans International Airp...</td>\n",
       "      <td>3.0</td>\n",
       "      <td>1969</td>\n",
       "      <td>37562</td>\n",
       "      <td>Airports</td>\n",
       "      <td>Kenner</td>\n",
       "      <td>LA</td>\n",
       "      <td>70062</td>\n",
       "    </tr>\n",
       "    <tr>\n",
       "      <th>3</th>\n",
       "      <td>c_4c5rJECZSfNgFj7frwHQ</td>\n",
       "      <td>Tampa International Airport</td>\n",
       "      <td>4.0</td>\n",
       "      <td>2033</td>\n",
       "      <td>37518</td>\n",
       "      <td>Airports</td>\n",
       "      <td>Tampa</td>\n",
       "      <td>FL</td>\n",
       "      <td>33607</td>\n",
       "    </tr>\n",
       "    <tr>\n",
       "      <th>4</th>\n",
       "      <td>4i4kmYm9wgSNyF1b6gKphg</td>\n",
       "      <td>Nashville International Airport - BNA</td>\n",
       "      <td>3.5</td>\n",
       "      <td>1140</td>\n",
       "      <td>31168</td>\n",
       "      <td>Airports</td>\n",
       "      <td>Nashville</td>\n",
       "      <td>TN</td>\n",
       "      <td>37214</td>\n",
       "    </tr>\n",
       "  </tbody>\n",
       "</table>\n",
       "</div>"
      ],
      "text/plain": [
       "              business_id                                               name  \\\n",
       "0  -QI8Qi8XWH3D8y8ethnajA           Philadelphia International Airport - PHL   \n",
       "1  FEXhWNCMkv22qG04E83Qjg                                      Cafe Du Monde   \n",
       "2  Eb1XmmLWyt_way5NNZ7-Pw  Louis Armstrong New Orleans International Airp...   \n",
       "3  c_4c5rJECZSfNgFj7frwHQ                        Tampa International Airport   \n",
       "4  4i4kmYm9wgSNyF1b6gKphg              Nashville International Airport - BNA   \n",
       "\n",
       "   rating  review_count  checkin_count  category          city state  zip_code  \n",
       "0     2.5          2338          52144  Airports  Philadelphia    PA     19153  \n",
       "1     4.0          3126          40109    Donuts   New Orleans    LA     70116  \n",
       "2     3.0          1969          37562  Airports        Kenner    LA     70062  \n",
       "3     4.0          2033          37518  Airports         Tampa    FL     33607  \n",
       "4     3.5          1140          31168  Airports     Nashville    TN     37214  "
      ]
     },
     "execution_count": 51,
     "metadata": {},
     "output_type": "execute_result"
    }
   ],
   "source": [
    "#Rearranges the columns\n",
    "yelpData = data.iloc[:,[0,2,3,4,1,5,6,7,8]]\n",
    "yelpData.head()"
   ]
  },
  {
   "cell_type": "markdown",
   "id": "528fcdb6-55a7-416d-b8ce-7bd72b986f4e",
   "metadata": {},
   "source": [
    "## Updating the Data Storage\n",
    "Now I will update my local database with the cleaned data. I will save both of the cleaned datasets as well as the combined clean dataset."
   ]
  },
  {
   "cell_type": "code",
   "execution_count": 52,
   "id": "a7a7487f-11b7-4a49-a23b-c9fb41fb6dc2",
   "metadata": {},
   "outputs": [],
   "source": [
    "#Saving cleanCheck dataframe to a CSV file\n",
    "cleanCheck.to_csv('cleanCheckIns.csv', encoding='utf-8', index=False)"
   ]
  },
  {
   "cell_type": "code",
   "execution_count": 53,
   "id": "343b091f-734e-43c0-a1db-c0dc2a8daae2",
   "metadata": {},
   "outputs": [],
   "source": [
    "#Saving cleanBizData dataframe to a CSV file\n",
    "cleanBizData.to_csv('cleanBusinessData.csv', encoding='utf-8', index=False)"
   ]
  },
  {
   "cell_type": "code",
   "execution_count": 54,
   "id": "e02c5464-b689-4d2e-8cb4-59c7b6ec0d12",
   "metadata": {},
   "outputs": [],
   "source": [
    "#Saving the combined clean dataset to a CSV file\n",
    "yelpData.to_csv('combinedYelpData.csv', encoding='utf-8', index=False)"
   ]
  },
  {
   "cell_type": "markdown",
   "id": "cc423144-8b53-4833-bffd-25c63b3bc1a0",
   "metadata": {},
   "source": [
    "## Answering Research Questions"
   ]
  },
  {
   "cell_type": "markdown",
   "id": "5c5ed4fa-1a1a-4de0-aaa1-f9affe924837",
   "metadata": {},
   "source": [
    "The data has been analyzed, cleaned, and combined. Now it's time to analyze the data to identify patterns, relationships, or any meaningful findings. I will then use my analysis to answer the following research questions:\n",
    "\n",
    "- What is the average rating of businesses based on their amount of reviews and how are these 2 variables related?\n",
    "- What is the average rating of businesses based on their amount check-ins and how are these 2 variables related?\n",
    "- What is the relationship between Yelp user interactions (check-ins + reviews) and the rating given to a business?"
   ]
  },
  {
   "cell_type": "markdown",
   "id": "5bd3457d-5842-442a-a13c-696c5b277a74",
   "metadata": {},
   "source": [
    "#### Q1: What is the average rating of businesses based on their amount of reviews and how are these 2 variables related?\n",
    "\n",
    "To answer this question, I will sort the businesses from most reviews to least reviews and split them up into groups of 40 to produce 15 groups total. Then, I will gather the average rating of each group and plot a graph."
   ]
  },
  {
   "cell_type": "code",
   "execution_count": 55,
   "id": "f7f80707-828a-4f6e-b00e-fbe60c5dc2cd",
   "metadata": {},
   "outputs": [],
   "source": [
    "#Stores the index of the sorted review_count into the variable \"ratingIdx\"\n",
    "ratingIdx = yelpData['review_count'].sort_values(ascending=False).index"
   ]
  },
  {
   "cell_type": "code",
   "execution_count": 56,
   "id": "a1470309-dc13-4e84-831b-9e5116e27b55",
   "metadata": {
    "scrolled": true
   },
   "outputs": [
    {
     "data": {
      "text/html": [
       "<div>\n",
       "<style scoped>\n",
       "    .dataframe tbody tr th:only-of-type {\n",
       "        vertical-align: middle;\n",
       "    }\n",
       "\n",
       "    .dataframe tbody tr th {\n",
       "        vertical-align: top;\n",
       "    }\n",
       "\n",
       "    .dataframe thead th {\n",
       "        text-align: right;\n",
       "    }\n",
       "</style>\n",
       "<table border=\"1\" class=\"dataframe\">\n",
       "  <thead>\n",
       "    <tr style=\"text-align: right;\">\n",
       "      <th></th>\n",
       "      <th>business_id</th>\n",
       "      <th>name</th>\n",
       "      <th>rating</th>\n",
       "      <th>review_count</th>\n",
       "      <th>checkin_count</th>\n",
       "      <th>category</th>\n",
       "      <th>city</th>\n",
       "      <th>state</th>\n",
       "      <th>zip_code</th>\n",
       "    </tr>\n",
       "  </thead>\n",
       "  <tbody>\n",
       "    <tr>\n",
       "      <th>0</th>\n",
       "      <td>ac1AeYqs8Z4_e2X5M3if2A</td>\n",
       "      <td>Oceana Grill</td>\n",
       "      <td>4.0</td>\n",
       "      <td>8913</td>\n",
       "      <td>21542</td>\n",
       "      <td>Breakfast &amp; Brunch</td>\n",
       "      <td>New Orleans</td>\n",
       "      <td>LA</td>\n",
       "      <td>70130</td>\n",
       "    </tr>\n",
       "    <tr>\n",
       "      <th>1</th>\n",
       "      <td>_ab50qdWOk0DdB6XOrBitw</td>\n",
       "      <td>Acme Oyster House</td>\n",
       "      <td>4.0</td>\n",
       "      <td>8420</td>\n",
       "      <td>15205</td>\n",
       "      <td>Live/Raw Food</td>\n",
       "      <td>New Orleans</td>\n",
       "      <td>LA</td>\n",
       "      <td>70130</td>\n",
       "    </tr>\n",
       "    <tr>\n",
       "      <th>2</th>\n",
       "      <td>GXFMD0Z4jEVZBCsbPf4CTQ</td>\n",
       "      <td>Hattie B’s Hot Chicken - Nashville - Midtown</td>\n",
       "      <td>4.5</td>\n",
       "      <td>7178</td>\n",
       "      <td>7848</td>\n",
       "      <td>Sandwiches</td>\n",
       "      <td>Nashville</td>\n",
       "      <td>TN</td>\n",
       "      <td>37203</td>\n",
       "    </tr>\n",
       "    <tr>\n",
       "      <th>3</th>\n",
       "      <td>ytynqOUb3hjKeJfRj5Tshw</td>\n",
       "      <td>Reading Terminal Market</td>\n",
       "      <td>4.5</td>\n",
       "      <td>6709</td>\n",
       "      <td>18615</td>\n",
       "      <td>Public Markets</td>\n",
       "      <td>Philadelphia</td>\n",
       "      <td>PA</td>\n",
       "      <td>19107</td>\n",
       "    </tr>\n",
       "    <tr>\n",
       "      <th>4</th>\n",
       "      <td>oBNrLz4EDhiscSlbOl8uAw</td>\n",
       "      <td>Ruby Slipper Cafe</td>\n",
       "      <td>4.5</td>\n",
       "      <td>6640</td>\n",
       "      <td>10209</td>\n",
       "      <td>Sandwiches</td>\n",
       "      <td>New Orleans</td>\n",
       "      <td>LA</td>\n",
       "      <td>70130</td>\n",
       "    </tr>\n",
       "  </tbody>\n",
       "</table>\n",
       "</div>"
      ],
      "text/plain": [
       "              business_id                                          name  \\\n",
       "0  ac1AeYqs8Z4_e2X5M3if2A                                  Oceana Grill   \n",
       "1  _ab50qdWOk0DdB6XOrBitw                             Acme Oyster House   \n",
       "2  GXFMD0Z4jEVZBCsbPf4CTQ  Hattie B’s Hot Chicken - Nashville - Midtown   \n",
       "3  ytynqOUb3hjKeJfRj5Tshw                       Reading Terminal Market   \n",
       "4  oBNrLz4EDhiscSlbOl8uAw                             Ruby Slipper Cafe   \n",
       "\n",
       "   rating  review_count  checkin_count            category          city  \\\n",
       "0     4.0          8913          21542  Breakfast & Brunch   New Orleans   \n",
       "1     4.0          8420          15205       Live/Raw Food   New Orleans   \n",
       "2     4.5          7178           7848          Sandwiches     Nashville   \n",
       "3     4.5          6709          18615      Public Markets  Philadelphia   \n",
       "4     4.5          6640          10209          Sandwiches   New Orleans   \n",
       "\n",
       "  state  zip_code  \n",
       "0    LA     70130  \n",
       "1    LA     70130  \n",
       "2    TN     37203  \n",
       "3    PA     19107  \n",
       "4    LA     70130  "
      ]
     },
     "execution_count": 56,
     "metadata": {},
     "output_type": "execute_result"
    }
   ],
   "source": [
    "#Puts the sorted review_count into a dataframe and resets the index to 0\n",
    "df_rev = yelpData.reindex(ratingIdx).reset_index(drop=True)\n",
    "df_rev.head()"
   ]
  },
  {
   "cell_type": "code",
   "execution_count": 57,
   "id": "485f73dd-3bf3-418f-a8ba-323e1285c6af",
   "metadata": {},
   "outputs": [],
   "source": [
    "#Dividing the businesses by groups of 40 from most review_count to least review_count\n",
    "rev1 = df_rev.iloc[:40]\n",
    "rev2 = df_rev.iloc[40:80]\n",
    "rev3 = df_rev.iloc[80:120]\n",
    "rev4 = df_rev.iloc[120:160]\n",
    "rev5 = df_rev.iloc[160:200]\n",
    "rev6 = df_rev.iloc[200:240]\n",
    "rev7 = df_rev.iloc[240:280]\n",
    "rev8 = df_rev.iloc[280:320]\n",
    "rev9 = df_rev.iloc[320:360]\n",
    "rev10 = df_rev.iloc[360:400]\n",
    "rev11 = df_rev.iloc[400:440]\n",
    "rev12 = df_rev.iloc[440:480]\n",
    "rev13 = df_rev.iloc[480:520]\n",
    "rev14 = df_rev.iloc[520:560]\n",
    "rev15 = df_rev.iloc[560:600]"
   ]
  },
  {
   "cell_type": "code",
   "execution_count": 58,
   "id": "194035f7-b8aa-4850-a5a0-17229494fe9d",
   "metadata": {},
   "outputs": [],
   "source": [
    "#Puts each group of 40 businesses in the list \"dataframes\"\n",
    "dataframes = [rev1, rev2, rev3, rev4, rev5, rev6, rev7, rev8, rev9, rev10, rev11, rev12, rev13, rev14, rev15]\n",
    "#Gets the average rating for each group\n",
    "def mean(df):\n",
    "    means = []\n",
    "    means.append(df['rating'].mean())\n",
    "    return means"
   ]
  },
  {
   "cell_type": "code",
   "execution_count": 59,
   "id": "d66cba94-8894-41a3-b23e-1771fd17536a",
   "metadata": {},
   "outputs": [],
   "source": [
    "#Gets the average review_count for each group\n",
    "def avgRev(df):\n",
    "    avg = []\n",
    "    avg.append(df['review_count'].mean())\n",
    "    return avg"
   ]
  },
  {
   "cell_type": "code",
   "execution_count": 60,
   "id": "cb8be3f3-ab48-4fd2-ae72-95091522f356",
   "metadata": {},
   "outputs": [],
   "source": [
    "#Gets the min and max of review_count for each group\n",
    "def minMax(df):\n",
    "    minMaxList = []\n",
    "    oneBiz = []\n",
    "    oneBiz.append(df['review_count'].min())\n",
    "    oneBiz.append(df['review_count'].max())\n",
    "    minMaxList.append(oneBiz)\n",
    "    return minMaxList"
   ]
  },
  {
   "cell_type": "code",
   "execution_count": 61,
   "id": "3a8388e6-6e3f-4327-bd24-3d3c89d7422d",
   "metadata": {},
   "outputs": [],
   "source": [
    "#Intializing the list that will contain the min and max review_count for each business in each of the 15 groups\n",
    "revRange = []\n",
    "#Initializing list that will contain average review_counts for each group\n",
    "meanRev = []\n",
    "#Initializes list that will contain the rating mean for each group\n",
    "meanList = []\n",
    "\n",
    "for df in dataframes:\n",
    "    meanList.extend(mean(df))\n",
    "    revRange.extend(minMax(df))\n",
    "    meanRev.extend(avgRev(df))"
   ]
  },
  {
   "cell_type": "code",
   "execution_count": 62,
   "id": "37db5ac7-ff7e-4b36-84b7-890b50a36214",
   "metadata": {},
   "outputs": [
    {
     "name": "stdout",
     "output_type": "stream",
     "text": [
      "Printing meanList\n",
      "[4.0375, 4.0875, 4.0875, 4.05, 4.0875, 4.05, 3.8875, 3.975, 3.9, 3.8875, 3.9125, 3.8375, 3.9875, 3.75, 3.7051282051282053]\n",
      "Printing meanRev\n",
      "[4404.75, 2542.55, 2051.375, 1698.375, 1443.3, 1244.925, 1047.75, 893.4, 774.075, 677.3, 562.3, 435.425, 309.65, 185.25, 72.64102564102564]\n",
      "Printing revRange\n",
      "[[3016, 8913], [2274, 2983], [1853, 2269], [1553, 1844], [1353, 1550], [1140, 1347], [955, 1139], [828, 952], [720, 825], [627, 714], [496, 627], [385, 496], [241, 385], [129, 240], [14, 128]]\n"
     ]
    }
   ],
   "source": [
    "#Prints the rating mean for all 15 groups stored in the dataframes variable\n",
    "print('Printing meanList')\n",
    "print(meanList)\n",
    "#Prints the mean of review_count for each group\n",
    "print('Printing meanRev')\n",
    "print(meanRev)\n",
    "#Prints the min and max of review_count for each group\n",
    "print('Printing revRange')\n",
    "print(revRange)"
   ]
  },
  {
   "cell_type": "markdown",
   "id": "061ca9fb-d0f0-4587-ab36-4034ee4ffee5",
   "metadata": {},
   "source": [
    "I have gathered the information that I need for this question. Next, I will create a dataframe for each of the 15 groups.\n",
    "\n",
    "The dataframe will have a column called `lowest_review_count` which states the *lowest* amount of reviews a business received in that group and a column called `highest_review_count` which states the *highest* amount of reviews a business received in that group. I will also add another column called `mean_rating` which presents the average rating for the businesses in a specific group."
   ]
  },
  {
   "cell_type": "code",
   "execution_count": 63,
   "id": "d1c09298-5943-43e1-880f-e46b96e6d332",
   "metadata": {},
   "outputs": [
    {
     "data": {
      "text/html": [
       "<div>\n",
       "<style scoped>\n",
       "    .dataframe tbody tr th:only-of-type {\n",
       "        vertical-align: middle;\n",
       "    }\n",
       "\n",
       "    .dataframe tbody tr th {\n",
       "        vertical-align: top;\n",
       "    }\n",
       "\n",
       "    .dataframe thead th {\n",
       "        text-align: right;\n",
       "    }\n",
       "</style>\n",
       "<table border=\"1\" class=\"dataframe\">\n",
       "  <thead>\n",
       "    <tr style=\"text-align: right;\">\n",
       "      <th></th>\n",
       "      <th>lowest_review_count</th>\n",
       "      <th>highest_review_count</th>\n",
       "    </tr>\n",
       "  </thead>\n",
       "  <tbody>\n",
       "    <tr>\n",
       "      <th>0</th>\n",
       "      <td>3016</td>\n",
       "      <td>8913</td>\n",
       "    </tr>\n",
       "    <tr>\n",
       "      <th>1</th>\n",
       "      <td>2274</td>\n",
       "      <td>2983</td>\n",
       "    </tr>\n",
       "    <tr>\n",
       "      <th>2</th>\n",
       "      <td>1853</td>\n",
       "      <td>2269</td>\n",
       "    </tr>\n",
       "  </tbody>\n",
       "</table>\n",
       "</div>"
      ],
      "text/plain": [
       "   lowest_review_count  highest_review_count\n",
       "0                 3016                  8913\n",
       "1                 2274                  2983\n",
       "2                 1853                  2269"
      ]
     },
     "execution_count": 63,
     "metadata": {},
     "output_type": "execute_result"
    }
   ],
   "source": [
    "#Creates the dataframe for each of the 15 groups\n",
    "rateRev = pd.DataFrame(revRange, columns=['lowest_review_count', 'highest_review_count'])\n",
    "rateRev.head(3)"
   ]
  },
  {
   "cell_type": "code",
   "execution_count": 64,
   "id": "9a85f986-1855-446d-9d4d-58393f582f12",
   "metadata": {},
   "outputs": [
    {
     "data": {
      "text/html": [
       "<div>\n",
       "<style scoped>\n",
       "    .dataframe tbody tr th:only-of-type {\n",
       "        vertical-align: middle;\n",
       "    }\n",
       "\n",
       "    .dataframe tbody tr th {\n",
       "        vertical-align: top;\n",
       "    }\n",
       "\n",
       "    .dataframe thead th {\n",
       "        text-align: right;\n",
       "    }\n",
       "</style>\n",
       "<table border=\"1\" class=\"dataframe\">\n",
       "  <thead>\n",
       "    <tr style=\"text-align: right;\">\n",
       "      <th></th>\n",
       "      <th>index_group</th>\n",
       "      <th>mean_rating</th>\n",
       "      <th>lowest_review_count</th>\n",
       "      <th>highest_review_count</th>\n",
       "      <th>mean_review</th>\n",
       "    </tr>\n",
       "  </thead>\n",
       "  <tbody>\n",
       "    <tr>\n",
       "      <th>0</th>\n",
       "      <td>0-39</td>\n",
       "      <td>4.037500</td>\n",
       "      <td>3016</td>\n",
       "      <td>8913</td>\n",
       "      <td>4404.750000</td>\n",
       "    </tr>\n",
       "    <tr>\n",
       "      <th>1</th>\n",
       "      <td>40-79</td>\n",
       "      <td>4.087500</td>\n",
       "      <td>2274</td>\n",
       "      <td>2983</td>\n",
       "      <td>2542.550000</td>\n",
       "    </tr>\n",
       "    <tr>\n",
       "      <th>2</th>\n",
       "      <td>80-119</td>\n",
       "      <td>4.087500</td>\n",
       "      <td>1853</td>\n",
       "      <td>2269</td>\n",
       "      <td>2051.375000</td>\n",
       "    </tr>\n",
       "    <tr>\n",
       "      <th>3</th>\n",
       "      <td>120-159</td>\n",
       "      <td>4.050000</td>\n",
       "      <td>1553</td>\n",
       "      <td>1844</td>\n",
       "      <td>1698.375000</td>\n",
       "    </tr>\n",
       "    <tr>\n",
       "      <th>4</th>\n",
       "      <td>160-199</td>\n",
       "      <td>4.087500</td>\n",
       "      <td>1353</td>\n",
       "      <td>1550</td>\n",
       "      <td>1443.300000</td>\n",
       "    </tr>\n",
       "    <tr>\n",
       "      <th>5</th>\n",
       "      <td>200-239</td>\n",
       "      <td>4.050000</td>\n",
       "      <td>1140</td>\n",
       "      <td>1347</td>\n",
       "      <td>1244.925000</td>\n",
       "    </tr>\n",
       "    <tr>\n",
       "      <th>6</th>\n",
       "      <td>240-279</td>\n",
       "      <td>3.887500</td>\n",
       "      <td>955</td>\n",
       "      <td>1139</td>\n",
       "      <td>1047.750000</td>\n",
       "    </tr>\n",
       "    <tr>\n",
       "      <th>7</th>\n",
       "      <td>280-319</td>\n",
       "      <td>3.975000</td>\n",
       "      <td>828</td>\n",
       "      <td>952</td>\n",
       "      <td>893.400000</td>\n",
       "    </tr>\n",
       "    <tr>\n",
       "      <th>8</th>\n",
       "      <td>320-359</td>\n",
       "      <td>3.900000</td>\n",
       "      <td>720</td>\n",
       "      <td>825</td>\n",
       "      <td>774.075000</td>\n",
       "    </tr>\n",
       "    <tr>\n",
       "      <th>9</th>\n",
       "      <td>360-399</td>\n",
       "      <td>3.887500</td>\n",
       "      <td>627</td>\n",
       "      <td>714</td>\n",
       "      <td>677.300000</td>\n",
       "    </tr>\n",
       "    <tr>\n",
       "      <th>10</th>\n",
       "      <td>400-439</td>\n",
       "      <td>3.912500</td>\n",
       "      <td>496</td>\n",
       "      <td>627</td>\n",
       "      <td>562.300000</td>\n",
       "    </tr>\n",
       "    <tr>\n",
       "      <th>11</th>\n",
       "      <td>440-479</td>\n",
       "      <td>3.837500</td>\n",
       "      <td>385</td>\n",
       "      <td>496</td>\n",
       "      <td>435.425000</td>\n",
       "    </tr>\n",
       "    <tr>\n",
       "      <th>12</th>\n",
       "      <td>480-519</td>\n",
       "      <td>3.987500</td>\n",
       "      <td>241</td>\n",
       "      <td>385</td>\n",
       "      <td>309.650000</td>\n",
       "    </tr>\n",
       "    <tr>\n",
       "      <th>13</th>\n",
       "      <td>520-559</td>\n",
       "      <td>3.750000</td>\n",
       "      <td>129</td>\n",
       "      <td>240</td>\n",
       "      <td>185.250000</td>\n",
       "    </tr>\n",
       "    <tr>\n",
       "      <th>14</th>\n",
       "      <td>560-599</td>\n",
       "      <td>3.705128</td>\n",
       "      <td>14</td>\n",
       "      <td>128</td>\n",
       "      <td>72.641026</td>\n",
       "    </tr>\n",
       "  </tbody>\n",
       "</table>\n",
       "</div>"
      ],
      "text/plain": [
       "   index_group  mean_rating  lowest_review_count  highest_review_count  \\\n",
       "0         0-39     4.037500                 3016                  8913   \n",
       "1        40-79     4.087500                 2274                  2983   \n",
       "2       80-119     4.087500                 1853                  2269   \n",
       "3      120-159     4.050000                 1553                  1844   \n",
       "4      160-199     4.087500                 1353                  1550   \n",
       "5      200-239     4.050000                 1140                  1347   \n",
       "6      240-279     3.887500                  955                  1139   \n",
       "7      280-319     3.975000                  828                   952   \n",
       "8      320-359     3.900000                  720                   825   \n",
       "9      360-399     3.887500                  627                   714   \n",
       "10     400-439     3.912500                  496                   627   \n",
       "11     440-479     3.837500                  385                   496   \n",
       "12     480-519     3.987500                  241                   385   \n",
       "13     520-559     3.750000                  129                   240   \n",
       "14     560-599     3.705128                   14                   128   \n",
       "\n",
       "    mean_review  \n",
       "0   4404.750000  \n",
       "1   2542.550000  \n",
       "2   2051.375000  \n",
       "3   1698.375000  \n",
       "4   1443.300000  \n",
       "5   1244.925000  \n",
       "6   1047.750000  \n",
       "7    893.400000  \n",
       "8    774.075000  \n",
       "9    677.300000  \n",
       "10   562.300000  \n",
       "11   435.425000  \n",
       "12   309.650000  \n",
       "13   185.250000  \n",
       "14    72.641026  "
      ]
     },
     "execution_count": 64,
     "metadata": {},
     "output_type": "execute_result"
    }
   ],
   "source": [
    "#Adds the mean_rating column\n",
    "rateRev['mean_rating'] = meanList\n",
    "#Adds a columns that gives the mean review_count for each group\n",
    "rateRev['mean_review'] = meanRev\n",
    "#Variable specifying which group is for which indexes\n",
    "groupList = ['0-39', '40-79', '80-119', '120-159', '160-199', '200-239', '240-279', '280-319',\n",
    "            '320-359', '360-399', '400-439', '440-479', '480-519', '520-559', '560-599']\n",
    "#Adds a column specifying which group is which\n",
    "rateRev['index_group'] = groupList\n",
    "\n",
    "#Rearranges the columns\n",
    "rateRev = rateRev.iloc[:, [4, 2, 0, 1, 3]]\n",
    "\n",
    "#Outputs the created dataframe to show the changes\n",
    "rateRev.head(15)"
   ]
  },
  {
   "cell_type": "code",
   "execution_count": 65,
   "id": "2edfee17-e972-4457-a169-9cdc728af8d5",
   "metadata": {},
   "outputs": [
    {
     "data": {
      "image/png": "[encoded data removed]",
      "text/plain": [
       "<Figure size 640x480 with 1 Axes>"
      ]
     },
     "metadata": {},
     "output_type": "display_data"
    }
   ],
   "source": [
    "#Creates a bar plot with my dataframe rateRev\n",
    "sns.barplot(x = 'mean_review',\n",
    "            y = 'mean_rating',\n",
    "            data = rateRev,\n",
    "            hue = 'mean_review')\n",
    "#Sets the dark grid in the background\n",
    "sns.set_style(\"darkgrid\")\n",
    "#legend placement, legend title\n",
    "plt.legend(bbox_to_anchor=(1, 1), loc='upper left', title='mean_review')\n",
    "#Renames x values to their corresponding index_group for easy viewing\n",
    "plt.xticks((0, 1, 2, 3, 4, 5, 6, 7, 8, 9, 10, 11, 12, 13, 14),\n",
    "           ('560-599', '520-559', '480-519', '440-479', '400-439','360-399', '320-359', '280-319', '240-279', '200-239', '160-199', '120-159', '80-119',\n",
    "           '40-79', '0-39'))\n",
    "plt.xticks(rotation=30)\n",
    "#X and Y labels\n",
    "plt.xlabel('Groups from Low Review Count to High Review Count', fontsize = 12, weight = 'bold')\n",
    "plt.ylabel('Yelp Rating', fontsize = 12, weight = 'bold')\n",
    "#Sets the y-ticks to increment by 0.2, range from 3-5\n",
    "plt.yticks(np.arange(3, 5, .2))\n",
    "plt.show()"
   ]
  },
  {
   "cell_type": "markdown",
   "id": "7abffb4b-317c-4310-97ad-e0f352e63a00",
   "metadata": {},
   "source": [
    "The average rating of businesses with the <u>most reviews</u> (`index group 0-39`) is `4.038` and their average amount of reviews is `4404.000`.\n",
    "\n",
    "The average rating of businesses with the <u>least reviews</u> (`index group 560-599`) is `3.705` and their average amount of reviews is `72.641`.\n",
    "\n",
    "The top 200 businesses with the most reviews were rated at least `4.0` on average whereas the rest of the business groups had a `mean_rating` of <`4.0`. However, there are some groups that have a *higher* `mean_review` than other groups but were assigned a *lower* `mean_rating`. For instance: `index group 480-519` has a `mean_rating` of `3.988` and a `mean_review` of `309.575`, but `index group 240-279` has a lower `mean_rating` of `3.888` and a higher `mean_review` of `1047.575`.\n",
    "\n",
    "Overall, amount of reviews does not have a notable relationship with business rating.\n",
    "\n",
    "\n",
    "*Note: Numbers were rounded to the nearest thousandths.*"
   ]
  },
  {
   "cell_type": "markdown",
   "id": "d4b067ef-671c-44ba-8745-36e9588a004a",
   "metadata": {},
   "source": [
    "#### Q2: What is the average rating of businesses based on their amount check-ins and how are these 2 variables related?\n",
    "\n",
    "To address this question, I will sort the businesses from most check-ins to least check-ins, split them up into 15 groups, and utilize similar functions defined in the previous question to display the data and produce a graph."
   ]
  },
  {
   "cell_type": "code",
   "execution_count": 66,
   "id": "4b98d060-7e8f-48f7-8845-4c8db419d11b",
   "metadata": {},
   "outputs": [],
   "source": [
    "#Stores the index of the sorted review_count into the variable \"checkinIdx\"\n",
    "checkinIdx = yelpData['checkin_count'].sort_values(ascending=False).index"
   ]
  },
  {
   "cell_type": "code",
   "execution_count": 67,
   "id": "50bb930e-b72e-4d3a-b89d-07783ab4ecf2",
   "metadata": {},
   "outputs": [
    {
     "data": {
      "text/html": [
       "<div>\n",
       "<style scoped>\n",
       "    .dataframe tbody tr th:only-of-type {\n",
       "        vertical-align: middle;\n",
       "    }\n",
       "\n",
       "    .dataframe tbody tr th {\n",
       "        vertical-align: top;\n",
       "    }\n",
       "\n",
       "    .dataframe thead th {\n",
       "        text-align: right;\n",
       "    }\n",
       "</style>\n",
       "<table border=\"1\" class=\"dataframe\">\n",
       "  <thead>\n",
       "    <tr style=\"text-align: right;\">\n",
       "      <th></th>\n",
       "      <th>business_id</th>\n",
       "      <th>name</th>\n",
       "      <th>rating</th>\n",
       "      <th>review_count</th>\n",
       "      <th>checkin_count</th>\n",
       "      <th>category</th>\n",
       "      <th>city</th>\n",
       "      <th>state</th>\n",
       "      <th>zip_code</th>\n",
       "    </tr>\n",
       "  </thead>\n",
       "  <tbody>\n",
       "    <tr>\n",
       "      <th>0</th>\n",
       "      <td>-QI8Qi8XWH3D8y8ethnajA</td>\n",
       "      <td>Philadelphia International Airport - PHL</td>\n",
       "      <td>2.5</td>\n",
       "      <td>2338</td>\n",
       "      <td>52144</td>\n",
       "      <td>Airports</td>\n",
       "      <td>Philadelphia</td>\n",
       "      <td>PA</td>\n",
       "      <td>19153</td>\n",
       "    </tr>\n",
       "    <tr>\n",
       "      <th>1</th>\n",
       "      <td>FEXhWNCMkv22qG04E83Qjg</td>\n",
       "      <td>Cafe Du Monde</td>\n",
       "      <td>4.0</td>\n",
       "      <td>3126</td>\n",
       "      <td>40109</td>\n",
       "      <td>Donuts</td>\n",
       "      <td>New Orleans</td>\n",
       "      <td>LA</td>\n",
       "      <td>70116</td>\n",
       "    </tr>\n",
       "    <tr>\n",
       "      <th>2</th>\n",
       "      <td>Eb1XmmLWyt_way5NNZ7-Pw</td>\n",
       "      <td>Louis Armstrong New Orleans International Airp...</td>\n",
       "      <td>3.0</td>\n",
       "      <td>1969</td>\n",
       "      <td>37562</td>\n",
       "      <td>Airports</td>\n",
       "      <td>Kenner</td>\n",
       "      <td>LA</td>\n",
       "      <td>70062</td>\n",
       "    </tr>\n",
       "    <tr>\n",
       "      <th>3</th>\n",
       "      <td>c_4c5rJECZSfNgFj7frwHQ</td>\n",
       "      <td>Tampa International Airport</td>\n",
       "      <td>4.0</td>\n",
       "      <td>2033</td>\n",
       "      <td>37518</td>\n",
       "      <td>Airports</td>\n",
       "      <td>Tampa</td>\n",
       "      <td>FL</td>\n",
       "      <td>33607</td>\n",
       "    </tr>\n",
       "    <tr>\n",
       "      <th>4</th>\n",
       "      <td>4i4kmYm9wgSNyF1b6gKphg</td>\n",
       "      <td>Nashville International Airport - BNA</td>\n",
       "      <td>3.5</td>\n",
       "      <td>1140</td>\n",
       "      <td>31168</td>\n",
       "      <td>Airports</td>\n",
       "      <td>Nashville</td>\n",
       "      <td>TN</td>\n",
       "      <td>37214</td>\n",
       "    </tr>\n",
       "  </tbody>\n",
       "</table>\n",
       "</div>"
      ],
      "text/plain": [
       "              business_id                                               name  \\\n",
       "0  -QI8Qi8XWH3D8y8ethnajA           Philadelphia International Airport - PHL   \n",
       "1  FEXhWNCMkv22qG04E83Qjg                                      Cafe Du Monde   \n",
       "2  Eb1XmmLWyt_way5NNZ7-Pw  Louis Armstrong New Orleans International Airp...   \n",
       "3  c_4c5rJECZSfNgFj7frwHQ                        Tampa International Airport   \n",
       "4  4i4kmYm9wgSNyF1b6gKphg              Nashville International Airport - BNA   \n",
       "\n",
       "   rating  review_count  checkin_count  category          city state  zip_code  \n",
       "0     2.5          2338          52144  Airports  Philadelphia    PA     19153  \n",
       "1     4.0          3126          40109    Donuts   New Orleans    LA     70116  \n",
       "2     3.0          1969          37562  Airports        Kenner    LA     70062  \n",
       "3     4.0          2033          37518  Airports         Tampa    FL     33607  \n",
       "4     3.5          1140          31168  Airports     Nashville    TN     37214  "
      ]
     },
     "execution_count": 67,
     "metadata": {},
     "output_type": "execute_result"
    }
   ],
   "source": [
    "#Puts the sorted checkin_count into a dataframe and resets the index to 0\n",
    "df_check = yelpData.reindex(checkinIdx).reset_index(drop=True)\n",
    "df_check.head()"
   ]
  },
  {
   "cell_type": "code",
   "execution_count": 68,
   "id": "044fbf72-f9d1-4a4a-843b-e11239b097e7",
   "metadata": {},
   "outputs": [],
   "source": [
    "#Dividing the businesses by groups of 40 from most amount of check-ins to least amount of check-ins\n",
    "check1 = df_check.iloc[:40]\n",
    "check2 = df_check.iloc[40:80]\n",
    "check3 = df_check.iloc[80:120]\n",
    "check4 = df_check.iloc[120:160]\n",
    "check5 = df_check.iloc[160:200]\n",
    "check6 = df_check.iloc[200:240]\n",
    "check7 = df_check.iloc[240:280]\n",
    "check8 = df_check.iloc[280:320]\n",
    "check9 = df_check.iloc[320:360]\n",
    "check10 = df_check.iloc[360:400]\n",
    "check11 = df_check.iloc[400:440]\n",
    "check12 = df_check.iloc[440:480]\n",
    "check13 = df_check.iloc[480:520]\n",
    "check14 = df_check.iloc[520:560]\n",
    "check15 = df_check.iloc[560:600]"
   ]
  },
  {
   "cell_type": "code",
   "execution_count": 69,
   "id": "241e3707-e094-405c-9c80-9f0f4cbde940",
   "metadata": {},
   "outputs": [],
   "source": [
    "#Puts each group of 40 businesses in the list \"checkDfs\"\n",
    "checkDfs = [check1, check2, check3, check4, check5, check6, check7, check8, check9, check10, check11, check12, check13, check14, check15]"
   ]
  },
  {
   "cell_type": "code",
   "execution_count": 70,
   "id": "3258659d-d144-4864-8967-8785540aafd0",
   "metadata": {},
   "outputs": [],
   "source": [
    "#Gets the average checkin_count for each group\n",
    "def avgCheck(df):\n",
    "    avg = []\n",
    "    avg.append(df['checkin_count'].mean())\n",
    "    return avg"
   ]
  },
  {
   "cell_type": "code",
   "execution_count": 71,
   "id": "b4352f99-8a5d-4e78-89ac-b8f6c2eda66b",
   "metadata": {},
   "outputs": [],
   "source": [
    "#Gets the min and max of checkin_count for each group\n",
    "def min_Max(df):\n",
    "    minMaxList = []\n",
    "    oneBiz = []\n",
    "    oneBiz.append(df['checkin_count'].min())\n",
    "    oneBiz.append(df['checkin_count'].max())\n",
    "    minMaxList.append(oneBiz)\n",
    "    return minMaxList"
   ]
  },
  {
   "cell_type": "code",
   "execution_count": 72,
   "id": "56120566-95b7-4889-9fc0-12fe85e495d1",
   "metadata": {},
   "outputs": [],
   "source": [
    "#Intializing the list that will contain the min and max checkin_count for each business in each of the 15 groups\n",
    "checkRange = []\n",
    "#Initializing list that will contain average checkin_count for each group\n",
    "meanCheck = []\n",
    "#Initializes list that will contain the rating mean for each group\n",
    "meanRating = []\n",
    "\n",
    "for df in checkDfs:\n",
    "    #Utilizes the mean() function defined for the previous question to get the rating mean for each group\n",
    "    meanRating.extend(mean(df))\n",
    "    checkRange.extend(min_Max(df))\n",
    "    meanCheck.extend(avgCheck(df))"
   ]
  },
  {
   "cell_type": "code",
   "execution_count": 73,
   "id": "6e06bbb5-2d2a-4f16-bdbe-fc3582c77e4a",
   "metadata": {},
   "outputs": [
    {
     "name": "stdout",
     "output_type": "stream",
     "text": [
      "Printing CheckRange\n",
      "[[6365, 52144], [4582, 6356], [3802, 4487], [3454, 3799], [3150, 3432], [2954, 3143], [2710, 2934], [2570, 2710], [2430, 2560], [2330, 2428], [2252, 2330], [2165, 2250], [2094, 2165], [2012, 2093], [1936, 2012]]\n",
      "Printing meanCheck\n",
      "[14535.925, 5224.925, 4113.825, 3616.225, 3282.85, 3058.1, 2823.775, 2636.1, 2501.1, 2375.7, 2282.175, 2207.65, 2130.3, 2052.525, 1970.6923076923076]\n",
      "Printing meanRating\n",
      "[3.8875, 3.9125, 4.0625, 4.0625, 4.0, 3.9625, 4.0125, 4.0125, 4.0875, 3.9375, 3.925, 3.8375, 3.825, 3.85, 3.871794871794872]\n"
     ]
    }
   ],
   "source": [
    "#Prints the lowest amount of check-ins for a business in a group as well as the highest amount of check-ins for a business in a group\n",
    "print('Printing CheckRange')\n",
    "print(checkRange)\n",
    "#Prints the average checkin_count for each group\n",
    "print('Printing meanCheck')\n",
    "print(meanCheck)\n",
    "#Prints the average rating for each group\n",
    "print('Printing meanRating')\n",
    "print(meanRating)"
   ]
  },
  {
   "cell_type": "markdown",
   "id": "6aef2006-9431-4af5-9331-057f20896bd2",
   "metadata": {},
   "source": [
    "I have gathered the information that pertains to this question, so now I will create a dataframe for each of the 15 groups.\n",
    "\n",
    "The dataframe will have a column called `lowest_checkin_count` which states the *lowest* amount of check-ins a business received in that group and a column called `highest_checkin_count` which states the *highest* amount of check-ins a business received in that group. Similar to the dataframe from the previous question, I will add a column called `mean_rating` which displays the average rating for the businesses each group."
   ]
  },
  {
   "cell_type": "code",
   "execution_count": 74,
   "id": "e8d4432b-cf78-4c32-b854-4bdf4a172b92",
   "metadata": {},
   "outputs": [
    {
     "data": {
      "text/html": [
       "<div>\n",
       "<style scoped>\n",
       "    .dataframe tbody tr th:only-of-type {\n",
       "        vertical-align: middle;\n",
       "    }\n",
       "\n",
       "    .dataframe tbody tr th {\n",
       "        vertical-align: top;\n",
       "    }\n",
       "\n",
       "    .dataframe thead th {\n",
       "        text-align: right;\n",
       "    }\n",
       "</style>\n",
       "<table border=\"1\" class=\"dataframe\">\n",
       "  <thead>\n",
       "    <tr style=\"text-align: right;\">\n",
       "      <th></th>\n",
       "      <th>index_group</th>\n",
       "      <th>mean_rating</th>\n",
       "      <th>lowest_checkin_count</th>\n",
       "      <th>highest_checkin_count</th>\n",
       "      <th>mean_checkin</th>\n",
       "    </tr>\n",
       "  </thead>\n",
       "  <tbody>\n",
       "    <tr>\n",
       "      <th>0</th>\n",
       "      <td>0-39</td>\n",
       "      <td>3.887500</td>\n",
       "      <td>6365</td>\n",
       "      <td>52144</td>\n",
       "      <td>14535.925000</td>\n",
       "    </tr>\n",
       "    <tr>\n",
       "      <th>1</th>\n",
       "      <td>40-79</td>\n",
       "      <td>3.912500</td>\n",
       "      <td>4582</td>\n",
       "      <td>6356</td>\n",
       "      <td>5224.925000</td>\n",
       "    </tr>\n",
       "    <tr>\n",
       "      <th>2</th>\n",
       "      <td>80-119</td>\n",
       "      <td>4.062500</td>\n",
       "      <td>3802</td>\n",
       "      <td>4487</td>\n",
       "      <td>4113.825000</td>\n",
       "    </tr>\n",
       "    <tr>\n",
       "      <th>3</th>\n",
       "      <td>120-159</td>\n",
       "      <td>4.062500</td>\n",
       "      <td>3454</td>\n",
       "      <td>3799</td>\n",
       "      <td>3616.225000</td>\n",
       "    </tr>\n",
       "    <tr>\n",
       "      <th>4</th>\n",
       "      <td>160-199</td>\n",
       "      <td>4.000000</td>\n",
       "      <td>3150</td>\n",
       "      <td>3432</td>\n",
       "      <td>3282.850000</td>\n",
       "    </tr>\n",
       "    <tr>\n",
       "      <th>5</th>\n",
       "      <td>200-239</td>\n",
       "      <td>3.962500</td>\n",
       "      <td>2954</td>\n",
       "      <td>3143</td>\n",
       "      <td>3058.100000</td>\n",
       "    </tr>\n",
       "    <tr>\n",
       "      <th>6</th>\n",
       "      <td>240-279</td>\n",
       "      <td>4.012500</td>\n",
       "      <td>2710</td>\n",
       "      <td>2934</td>\n",
       "      <td>2823.775000</td>\n",
       "    </tr>\n",
       "    <tr>\n",
       "      <th>7</th>\n",
       "      <td>280-319</td>\n",
       "      <td>4.012500</td>\n",
       "      <td>2570</td>\n",
       "      <td>2710</td>\n",
       "      <td>2636.100000</td>\n",
       "    </tr>\n",
       "    <tr>\n",
       "      <th>8</th>\n",
       "      <td>320-359</td>\n",
       "      <td>4.087500</td>\n",
       "      <td>2430</td>\n",
       "      <td>2560</td>\n",
       "      <td>2501.100000</td>\n",
       "    </tr>\n",
       "    <tr>\n",
       "      <th>9</th>\n",
       "      <td>360-399</td>\n",
       "      <td>3.937500</td>\n",
       "      <td>2330</td>\n",
       "      <td>2428</td>\n",
       "      <td>2375.700000</td>\n",
       "    </tr>\n",
       "    <tr>\n",
       "      <th>10</th>\n",
       "      <td>400-439</td>\n",
       "      <td>3.925000</td>\n",
       "      <td>2252</td>\n",
       "      <td>2330</td>\n",
       "      <td>2282.175000</td>\n",
       "    </tr>\n",
       "    <tr>\n",
       "      <th>11</th>\n",
       "      <td>440-479</td>\n",
       "      <td>3.837500</td>\n",
       "      <td>2165</td>\n",
       "      <td>2250</td>\n",
       "      <td>2207.650000</td>\n",
       "    </tr>\n",
       "    <tr>\n",
       "      <th>12</th>\n",
       "      <td>480-519</td>\n",
       "      <td>3.825000</td>\n",
       "      <td>2094</td>\n",
       "      <td>2165</td>\n",
       "      <td>2130.300000</td>\n",
       "    </tr>\n",
       "    <tr>\n",
       "      <th>13</th>\n",
       "      <td>520-559</td>\n",
       "      <td>3.850000</td>\n",
       "      <td>2012</td>\n",
       "      <td>2093</td>\n",
       "      <td>2052.525000</td>\n",
       "    </tr>\n",
       "    <tr>\n",
       "      <th>14</th>\n",
       "      <td>560-599</td>\n",
       "      <td>3.871795</td>\n",
       "      <td>1936</td>\n",
       "      <td>2012</td>\n",
       "      <td>1970.692308</td>\n",
       "    </tr>\n",
       "  </tbody>\n",
       "</table>\n",
       "</div>"
      ],
      "text/plain": [
       "   index_group  mean_rating  lowest_checkin_count  highest_checkin_count  \\\n",
       "0         0-39     3.887500                  6365                  52144   \n",
       "1        40-79     3.912500                  4582                   6356   \n",
       "2       80-119     4.062500                  3802                   4487   \n",
       "3      120-159     4.062500                  3454                   3799   \n",
       "4      160-199     4.000000                  3150                   3432   \n",
       "5      200-239     3.962500                  2954                   3143   \n",
       "6      240-279     4.012500                  2710                   2934   \n",
       "7      280-319     4.012500                  2570                   2710   \n",
       "8      320-359     4.087500                  2430                   2560   \n",
       "9      360-399     3.937500                  2330                   2428   \n",
       "10     400-439     3.925000                  2252                   2330   \n",
       "11     440-479     3.837500                  2165                   2250   \n",
       "12     480-519     3.825000                  2094                   2165   \n",
       "13     520-559     3.850000                  2012                   2093   \n",
       "14     560-599     3.871795                  1936                   2012   \n",
       "\n",
       "    mean_checkin  \n",
       "0   14535.925000  \n",
       "1    5224.925000  \n",
       "2    4113.825000  \n",
       "3    3616.225000  \n",
       "4    3282.850000  \n",
       "5    3058.100000  \n",
       "6    2823.775000  \n",
       "7    2636.100000  \n",
       "8    2501.100000  \n",
       "9    2375.700000  \n",
       "10   2282.175000  \n",
       "11   2207.650000  \n",
       "12   2130.300000  \n",
       "13   2052.525000  \n",
       "14   1970.692308  "
      ]
     },
     "execution_count": 74,
     "metadata": {},
     "output_type": "execute_result"
    }
   ],
   "source": [
    "#Creates the dataframe for each of the 15 groups\n",
    "rateCheck = pd.DataFrame(checkRange, columns=['lowest_checkin_count', 'highest_checkin_count'])\n",
    "\n",
    "#Adds the mean_rating column\n",
    "rateCheck['mean_rating'] = meanRating\n",
    "#Adds a columns that gives the mean checkin_count for each group\n",
    "rateCheck['mean_checkin'] = meanCheck\n",
    "#Variable specifying which group is for which indexes\n",
    "groupL = ['0-39', '40-79', '80-119', '120-159', '160-199', '200-239', '240-279', '280-319',\n",
    "            '320-359', '360-399', '400-439', '440-479', '480-519', '520-559', '560-599']\n",
    "#Adds a column specifying which group is which\n",
    "rateCheck['index_group'] = groupL\n",
    "\n",
    "#Rearranges the columns\n",
    "rateCheck = rateCheck.iloc[:, [4, 2, 0, 1, 3]]\n",
    "\n",
    "#Outputs the created dataframe to show the changes\n",
    "rateCheck.head(15)"
   ]
  },
  {
   "cell_type": "code",
   "execution_count": 75,
   "id": "47514a53-c106-438c-8e05-dc6386b012e6",
   "metadata": {},
   "outputs": [
    {
     "data": {
      "image/png": "[encoded data removed]",
      "text/plain": [
       "<Figure size 640x480 with 1 Axes>"
      ]
     },
     "metadata": {},
     "output_type": "display_data"
    }
   ],
   "source": [
    "#Creates a bar plot with my dataframe rateCheck\n",
    "sns.barplot(x = 'mean_checkin',\n",
    "            y = 'mean_rating',\n",
    "            hue = 'mean_checkin',\n",
    "            data = rateCheck)\n",
    "#Sets the dark grid in the background\n",
    "sns.set_style(\"darkgrid\")\n",
    "#legend placement, legend title\n",
    "plt.legend(bbox_to_anchor=(1, 1), loc='upper left', title='mean_checkin')\n",
    "#Renames x values to their corresponding index_group for easy viewing\n",
    "plt.xticks((0, 1, 2, 3, 4, 5, 6, 7, 8, 9, 10, 11, 12, 13, 14),\n",
    "           ('560-599', '520-559', '480-519', '440-479', '400-439','360-399', '320-359', '280-319', '240-279', '200-239', '160-199', '120-159', '80-119',\n",
    "           '40-79', '0-39'))\n",
    "plt.xticks(rotation=30)\n",
    "#X and Y labels\n",
    "plt.xlabel('Groups from Low Check-In Count to High Check-In Count', fontsize = 12, weight = 'bold')\n",
    "plt.ylabel('Yelp Rating', fontsize = 12, weight = 'bold')\n",
    "#Sets the y-ticks to increment by 0.2, range from 3-5\n",
    "plt.yticks(np.arange(3, 5, .2))\n",
    "plt.show()"
   ]
  },
  {
   "cell_type": "code",
   "execution_count": 76,
   "id": "8189c36c-855f-472c-a62d-587a944b2bfb",
   "metadata": {},
   "outputs": [
    {
     "data": {
      "text/plain": [
       "0    Airports\n",
       "1      Donuts\n",
       "2    Airports\n",
       "3    Airports\n",
       "4    Airports\n",
       "5    Airports\n",
       "Name: category, dtype: object"
      ]
     },
     "execution_count": 76,
     "metadata": {},
     "output_type": "execute_result"
    }
   ],
   "source": [
    "#Displays the category value for the top 6 rows with the most check-ins\n",
    "df_check.category.head(6)"
   ]
  },
  {
   "cell_type": "markdown",
   "id": "f7f62aae-950b-4f2a-80fc-874d63e6da10",
   "metadata": {},
   "source": [
    "The average rating of businesses with the <u>most check-ins</u> (`index group 0-39`) is `3.888` and their average amount of check-ins is `14535.925`. Considering 5 out of the 6 businesses with the most check-ins are `Airports`, a large amount of check-ins makes sense.\n",
    "\n",
    "The average rating of businesses with the <u>least check-ins</u> (`index group 560-599`) is `3.872` and their average amount of check-ins is `1970.692`.\n",
    "\n",
    "The `index group 320-359` had the highest `mean_rating` with a value of `4.088` and a `mean_checkin` of `2501.100`.\n",
    "\n",
    "These findings suggest that there is no relationship between the amount of check-ins and the rating of a business.\n",
    "\n",
    "\n",
    "*Note: Numbers were rounded to the nearest thousandths.*"
   ]
  },
  {
   "cell_type": "code",
   "execution_count": 77,
   "id": "02856a8b-1114-4430-92f6-7fbe93b8c132",
   "metadata": {},
   "outputs": [
    {
     "name": "stdout",
     "output_type": "stream",
     "text": [
      "Total amount of check-ins in the YelpData dataframe:\n",
      "2190504\n",
      "Total amount of reviews in the YelpData dataframe:\n",
      "733650\n"
     ]
    }
   ],
   "source": [
    "#Total amount of check-ins + reviews for all businesses in the combined dataframe\n",
    "print('Total amount of check-ins in the YelpData dataframe:')\n",
    "print(yelpData.checkin_count.sum())\n",
    "print('Total amount of reviews in the YelpData dataframe:')\n",
    "print(yelpData.review_count.sum())"
   ]
  },
  {
   "cell_type": "markdown",
   "id": "39b77a4a-341d-47ba-96c3-b73e0f2ffd60",
   "metadata": {},
   "source": [
    "The total amount of check-ins is almost 3 times the total amount of reviews.\n",
    "A reason for this may be because submitting a check-in for a business on Yelp tends to be much less time-consuming than posting a Yelp review. Yelp users can easily submit a check-in without typing any words, whereas posting a review requires the user to type at least 85 characters in their review.\n",
    "\n",
    "Initially, I thought that businesses with more check-ins would have a slight tendency to rate higher than businesses with less check-ins. The analysis showed that is not the case. Amount of check-ins is not a notable factor for predicting the rating of a business."
   ]
  },
  {
   "cell_type": "markdown",
   "id": "07110974-04aa-488b-b05d-3c7aeb7240bc",
   "metadata": {},
   "source": [
    "#### Q3: What is the relationship between Yelp user interactions (check-ins + reviews) and the rating given to a business?\n",
    "\n",
    "To examine the relationship between these variables, I will create a new column that lists the total amount of Yelp user interactions (check-ins + reviews) called `total_interaction` and compare it with `rating`. I chose to explore this relationship because I was curious to see how a Yelp user's opinion of a business affected their interactions with a business' page on Yelp and vice-versa. "
   ]
  },
  {
   "cell_type": "code",
   "execution_count": 78,
   "id": "bf4bd990-c689-44e2-9b25-c0edd2e78632",
   "metadata": {},
   "outputs": [],
   "source": [
    "#Copies the dataframe\n",
    "yelpInt = yelpData.copy()"
   ]
  },
  {
   "cell_type": "code",
   "execution_count": 79,
   "id": "0796a499-c666-4933-a6c7-587e5316d417",
   "metadata": {},
   "outputs": [
    {
     "data": {
      "text/html": [
       "<div>\n",
       "<style scoped>\n",
       "    .dataframe tbody tr th:only-of-type {\n",
       "        vertical-align: middle;\n",
       "    }\n",
       "\n",
       "    .dataframe tbody tr th {\n",
       "        vertical-align: top;\n",
       "    }\n",
       "\n",
       "    .dataframe thead th {\n",
       "        text-align: right;\n",
       "    }\n",
       "</style>\n",
       "<table border=\"1\" class=\"dataframe\">\n",
       "  <thead>\n",
       "    <tr style=\"text-align: right;\">\n",
       "      <th></th>\n",
       "      <th>business_id</th>\n",
       "      <th>name</th>\n",
       "      <th>rating</th>\n",
       "      <th>review_count</th>\n",
       "      <th>checkin_count</th>\n",
       "      <th>category</th>\n",
       "      <th>city</th>\n",
       "      <th>state</th>\n",
       "      <th>zip_code</th>\n",
       "      <th>total_interaction</th>\n",
       "    </tr>\n",
       "  </thead>\n",
       "  <tbody>\n",
       "    <tr>\n",
       "      <th>0</th>\n",
       "      <td>-QI8Qi8XWH3D8y8ethnajA</td>\n",
       "      <td>Philadelphia International Airport - PHL</td>\n",
       "      <td>2.5</td>\n",
       "      <td>2338</td>\n",
       "      <td>52144</td>\n",
       "      <td>Airports</td>\n",
       "      <td>Philadelphia</td>\n",
       "      <td>PA</td>\n",
       "      <td>19153</td>\n",
       "      <td>54482</td>\n",
       "    </tr>\n",
       "    <tr>\n",
       "      <th>1</th>\n",
       "      <td>FEXhWNCMkv22qG04E83Qjg</td>\n",
       "      <td>Cafe Du Monde</td>\n",
       "      <td>4.0</td>\n",
       "      <td>3126</td>\n",
       "      <td>40109</td>\n",
       "      <td>Donuts</td>\n",
       "      <td>New Orleans</td>\n",
       "      <td>LA</td>\n",
       "      <td>70116</td>\n",
       "      <td>43235</td>\n",
       "    </tr>\n",
       "    <tr>\n",
       "      <th>2</th>\n",
       "      <td>Eb1XmmLWyt_way5NNZ7-Pw</td>\n",
       "      <td>Louis Armstrong New Orleans International Airp...</td>\n",
       "      <td>3.0</td>\n",
       "      <td>1969</td>\n",
       "      <td>37562</td>\n",
       "      <td>Airports</td>\n",
       "      <td>Kenner</td>\n",
       "      <td>LA</td>\n",
       "      <td>70062</td>\n",
       "      <td>39531</td>\n",
       "    </tr>\n",
       "  </tbody>\n",
       "</table>\n",
       "</div>"
      ],
      "text/plain": [
       "              business_id                                               name  \\\n",
       "0  -QI8Qi8XWH3D8y8ethnajA           Philadelphia International Airport - PHL   \n",
       "1  FEXhWNCMkv22qG04E83Qjg                                      Cafe Du Monde   \n",
       "2  Eb1XmmLWyt_way5NNZ7-Pw  Louis Armstrong New Orleans International Airp...   \n",
       "\n",
       "   rating  review_count  checkin_count  category          city state  \\\n",
       "0     2.5          2338          52144  Airports  Philadelphia    PA   \n",
       "1     4.0          3126          40109    Donuts   New Orleans    LA   \n",
       "2     3.0          1969          37562  Airports        Kenner    LA   \n",
       "\n",
       "   zip_code  total_interaction  \n",
       "0     19153              54482  \n",
       "1     70116              43235  \n",
       "2     70062              39531  "
      ]
     },
     "execution_count": 79,
     "metadata": {},
     "output_type": "execute_result"
    }
   ],
   "source": [
    "#Creates a new column that presents the total amount of Yelp user interactions by adding review_count and checkin_count\n",
    "yelpInt['total_interaction'] = yelpInt['review_count'] + yelpInt['checkin_count']\n",
    "#Loads the changed dataframe\n",
    "yelpInt.head(3)"
   ]
  },
  {
   "cell_type": "code",
   "execution_count": 80,
   "id": "0a56277a-7158-4dc3-9a5a-447f13d7ddd3",
   "metadata": {},
   "outputs": [
    {
     "data": {
      "image/png": "[encoded data removed]",
      "text/plain": [
       "<Figure size 1800x1000 with 1 Axes>"
      ]
     },
     "metadata": {},
     "output_type": "display_data"
    }
   ],
   "source": [
    "#Set data to yelpInt dataframe\n",
    "data = yelpInt\n",
    "fig, ax = plt.subplots()\n",
    "#Sets the size of the plot\n",
    "fig.set_size_inches(18, 10)\n",
    "#Plots the scatterplot with a regression line to show the relationship between rating and total_interaction,\n",
    "#sets the colors of the plot and width of the regression line\n",
    "sns.regplot(x = yelpInt['rating'], y = yelpInt['total_interaction'], scatter_kws={'color': '#7DCEA0'}, line_kws={'color':'c','lw':3})\n",
    "#Sets plot title\n",
    "plt.title('Relationship Between Business Rating and Yelp User Interaction', weight = 'bold', fontsize = 18)\n",
    "#X and Y labels\n",
    "plt.xlabel('Business Rating', fontsize = 15)\n",
    "plt.ylabel('Yelp User Interaction', fontsize = 15);"
   ]
  },
  {
   "cell_type": "code",
   "execution_count": 81,
   "id": "51096456-5ab9-4193-8fe5-441789f393d1",
   "metadata": {},
   "outputs": [
    {
     "data": {
      "text/plain": [
       "-0.03890380664265708"
      ]
     },
     "execution_count": 81,
     "metadata": {},
     "output_type": "execute_result"
    }
   ],
   "source": [
    "yelpInt['rating'].corr(yelpInt['total_interaction'])"
   ]
  },
  {
   "cell_type": "markdown",
   "id": "844e2e13-c72f-416a-a0b6-0eca2d177e96",
   "metadata": {},
   "source": [
    "The plot above illustrates that a majority of the businesses are rated around 3.0-4.5 out of 5.0. There are few businesses rated very high (5.0) or very low (1.5).\n",
    "\n",
    "There is no correlation between business rating and yelp user interaction with a correlation of -0.0389. The regression line on the plot demonstrates there is no significant relationship between `rating` and `total_interaction`.\n",
    "\n",
    "Considering that the previous graphs showed that `checkin_count` has no relationship with business `rating` and that `review_count` is not a reliable indicator of `rating`, the lack of relationship between `rating` and `total_interaction` makes sense."
   ]
  },
  {
   "cell_type": "markdown",
   "id": "83fee2c7-58ce-4c40-840f-e0e83ce4159b",
   "metadata": {},
   "source": [
    "## Conclusions\n",
    "Prior to conducting my analysis, I speculated that businesses with more reviews or check-ins had a higher probability of having a higher rating than businesses with less reviews or check-ins. I expected that Yelp businesses that have established a decent rating (3.5-5.0) would attract more customers, increasing their amount of Yelp user reviews and check-ins. I also expected that Yelp businesses with a lot of Yelp user interactions would gain more popularity and traction, causing an increase of hype and customers. While this may be true in some cases, my analyses demonstrated that this is not the case for the overall dataset.\n",
    "\n",
    "My analysis in question 1 revealed that some businesses have a higher `mean_rating` than other businesses despite having a lower average amount of reviews. There were also businesses that had a lower `mean_rating` with a higher average amount of reviews compared to other businesses. This findings indicate that there is no significant relationship between review count and business rating.\n",
    "\n",
    "My analysis in question 2 revealed that businesses with a higher amount of check-ins do not have a higher probability of having a higher rating. `index_group 320-359` has a `mean_checkin` of 2501.100 and has the highest `mean_rating` at 4.088. I suppose this can be explained by a multitude of factors. One explanation may be that checking into a Yelp business is a lot less time-consuming and less effort than writing a review for a business. Because it's less time-consuming, many people check into a business regardless of whether they have a positive or a negative opinion about the business.\n",
    "\n",
    "I'm somewhat surprised that `total_interaction` does not have a notable influence on business `rating` and vice-versa. My analysis for question 3 illustrated the lack of relationship between business `rating` and `total_interaction`. In conclusion, the quantity of Yelp reviews and check-ins are not reliable factors in predicting a business' rating. These 3 variables are not statistically related.\n",
    "\n",
    "*Note: Numbers were rounded to the nearest thousandths.*"
   ]
  },
  {
   "cell_type": "markdown",
   "id": "6cf624bd-33cc-4a34-b0b3-a9729493b191",
   "metadata": {},
   "source": [
    "### Reflection\n",
    "I would be interested in exploring the relationship between business `rating` and `total_interaction` based on different states or major metropolitan areas. I'm curious to see if the correlation between the 2 variables differ based on location or regional culture. I would also be interested in working with a dataset made from machine learning that predicts whether Yelp users' reviews are negative or positive."
   ]
  },
  {
   "cell_type": "markdown",
   "id": "314749f7-c25a-4bfc-8dcf-c189a024e8d3",
   "metadata": {},
   "source": [
    "### References:\n",
    "\n",
    "**DATASET**\n",
    "- [Yelp Open Dataset](https://www.yelp.com/dataset) This is the Yelp open dataset where I acquired Dataset 1.\n",
    "\n",
    "- [Yelp Fusion API](https://docs.developer.yelp.com/docs/fusion-intro) Guided me on how to apply for Yelp API access + how to use the features of the Yelp API (Dataset 2).\n",
    "\n",
    "- [Youtube](https://www.youtube.com/watch?v=oggMBtza80E) This video helped me learn how to make requests to Yelp's API.\n",
    "\n",
    "\n",
    "**Other References**\n",
    "\n",
    "[Stack Overflow](https://stackoverflow.com/questions/30202011/how-can-i-count-comma-separated-values-in-one-column-of-my-panda-table) Taught me how to count comma separated values.\n",
    "\n",
    "[Stack Overflow](https://stackoverflow.com/questions/54426845/how-to-check-if-a-pandas-dataframe-contains-only-numeric-values-column-wise) Taught me how to check if a column only contains numerical values.\n",
    "\n",
    "[Stack Overflow](https://stackoverflow.com/questions/54084166/how-to-extract-entire-part-of-string-after-certain-character-in-dataframe-column) Taught me how to extract a specific part of a string based on its adjacent characters.\n",
    "\n",
    "[Stack Overflow](https://stackoverflow.com/questions/31556424/how-do-i-change-the-plot-size-of-a-regplot-in-seaborn) Instructed me on how to change the size of my Seaborn regplot.\n",
    "\n",
    "[Stack Overflow](https://stackoverflow.com/questions/48145924/different-colors-for-points-and-line-in-seaborn-regplot) Where I learned how to change the colors in my Seaborn regplot.\n",
    "\n",
    "[Medium](https://medium.com/black-tech-diva/hide-your-api-keys-7635e181a06c) How I hid my API key to adhere to Yelp's terms of use."
   ]
  }
 ],
 "metadata": {
  "kernelspec": {
   "display_name": "Python 3 (ipykernel)",
   "language": "python",
   "name": "python3"
  },
  "language_info": {
   "codemirror_mode": {
    "name": "ipython",
    "version": 3
   },
   "file_extension": ".py",
   "mimetype": "text/x-python",
   "name": "python",
   "nbconvert_exporter": "python",
   "pygments_lexer": "ipython3",
   "version": "3.12.0"
  }
 },
 "nbformat": 4,
 "nbformat_minor": 5
}
